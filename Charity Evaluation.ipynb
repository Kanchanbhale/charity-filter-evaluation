{
 "cells": [
  {
   "cell_type": "markdown",
   "metadata": {},
   "source": [
    "# Introduction\n",
    "\n",
    "\n",
    "Now: Naive Bayes, measure gut feeling\n",
    "\n",
    "Experimental Goal: Emperical evaluation matching\n",
    "\n",
    "Problem : \n",
    "* Transfer Problem: model bias, train charity and want to apply model to news\n",
    "* Choice Target Variable: Target Variable : Cause (37) or category (11)\n",
    "\n",
    "Design:\n",
    "2) Compare performance of several approaches.\n",
    "\n",
    "\n",
    "Choice of Algo:\n",
    "* Imbalance: overcome imbalance using model insensitve to class imbalance\n",
    "* NB, SVM, Random Forest, XGBoost, Sequential NN\n",
    "\n",
    "Document Representation\n",
    "term frequ\n",
    "tfidf\n",
    "word2vec\n",
    "doc2vec\n",
    "HashingVectorizer??? what is it\n",
    "\n"
   ]
  },
  {
   "cell_type": "markdown",
   "metadata": {},
   "source": [
    "# Python Imports"
   ]
  },
  {
   "cell_type": "code",
   "execution_count": 1,
   "metadata": {},
   "outputs": [],
   "source": [
    "import pandas as pd\n",
    "\n",
    "%matplotlib inline\n",
    "import matplotlib.pyplot as plt\n",
    "\n",
    "import matplotlib\n",
    "import numpy as np\n",
    "import missingno as msno\n",
    "\n",
    "from sklearn.feature_extraction.text import CountVectorizer\n",
    "from sklearn.feature_extraction.text import TfidfVectorizer\n",
    "from sklearn.feature_extraction.text import TfidfTransformer\n",
    "\n",
    "from sklearn import preprocessing\n",
    "\n",
    "from sklearn.naive_bayes import MultinomialNB\n",
    "from sklearn.linear_model import SGDClassifier\n",
    "from sklearn import svm\n",
    "\n",
    "from sklearn.model_selection import train_test_split\n",
    "from sklearn.pipeline import Pipeline\n",
    "from sklearn.model_selection import GridSearchCV\n",
    "from sklearn.metrics import accuracy_score\n",
    "from sklearn.externals import joblib"
   ]
  },
  {
   "cell_type": "markdown",
   "metadata": {},
   "source": [
    "# Data Set"
   ]
  },
  {
   "cell_type": "code",
   "execution_count": 2,
   "metadata": {},
   "outputs": [
    {
     "data": {
      "text/html": [
       "<div>\n",
       "<style scoped>\n",
       "    .dataframe tbody tr th:only-of-type {\n",
       "        vertical-align: middle;\n",
       "    }\n",
       "\n",
       "    .dataframe tbody tr th {\n",
       "        vertical-align: top;\n",
       "    }\n",
       "\n",
       "    .dataframe thead th {\n",
       "        text-align: right;\n",
       "    }\n",
       "</style>\n",
       "<table border=\"1\" class=\"dataframe\">\n",
       "  <thead>\n",
       "    <tr style=\"text-align: right;\">\n",
       "      <th></th>\n",
       "      <th>Unnamed: 0</th>\n",
       "      <th>category</th>\n",
       "      <th>cause</th>\n",
       "      <th>charityid</th>\n",
       "      <th>mission</th>\n",
       "      <th>tagline</th>\n",
       "    </tr>\n",
       "  </thead>\n",
       "  <tbody>\n",
       "    <tr>\n",
       "      <th>0</th>\n",
       "      <td>0</td>\n",
       "      <td>arts culture humanities</td>\n",
       "      <td>museums</td>\n",
       "      <td>9745</td>\n",
       "      <td>the utah museum of contemporary art advances a...</td>\n",
       "      <td>utah premiere venue for contemporary art</td>\n",
       "    </tr>\n",
       "    <tr>\n",
       "      <th>1</th>\n",
       "      <td>1</td>\n",
       "      <td>health</td>\n",
       "      <td>diseases disorders and disciplines</td>\n",
       "      <td>8857</td>\n",
       "      <td>the national mps society exists to find cures ...</td>\n",
       "      <td>support for families research for cure</td>\n",
       "    </tr>\n",
       "    <tr>\n",
       "      <th>2</th>\n",
       "      <td>2</td>\n",
       "      <td>health</td>\n",
       "      <td>patient and family support</td>\n",
       "      <td>14464</td>\n",
       "      <td>the ronald mcdonald house of san francisco rmh...</td>\n",
       "      <td>the house that love built</td>\n",
       "    </tr>\n",
       "    <tr>\n",
       "      <th>3</th>\n",
       "      <td>3</td>\n",
       "      <td>human services</td>\n",
       "      <td>social services</td>\n",
       "      <td>4177</td>\n",
       "      <td>the mission of the national federation of the ...</td>\n",
       "      <td>live the life you want</td>\n",
       "    </tr>\n",
       "    <tr>\n",
       "      <th>4</th>\n",
       "      <td>4</td>\n",
       "      <td>animals</td>\n",
       "      <td>zoos and aquariums</td>\n",
       "      <td>3718</td>\n",
       "      <td>the oldest zoo in texas the fort worth zoo was...</td>\n",
       "      <td>strengthening the bond between humans and the ...</td>\n",
       "    </tr>\n",
       "  </tbody>\n",
       "</table>\n",
       "</div>"
      ],
      "text/plain": [
       "   Unnamed: 0                 category                               cause  \\\n",
       "0           0  arts culture humanities                             museums   \n",
       "1           1                   health  diseases disorders and disciplines   \n",
       "2           2                   health          patient and family support   \n",
       "3           3           human services                     social services   \n",
       "4           4                  animals                  zoos and aquariums   \n",
       "\n",
       "   charityid                                            mission  \\\n",
       "0       9745  the utah museum of contemporary art advances a...   \n",
       "1       8857  the national mps society exists to find cures ...   \n",
       "2      14464  the ronald mcdonald house of san francisco rmh...   \n",
       "3       4177  the mission of the national federation of the ...   \n",
       "4       3718  the oldest zoo in texas the fort worth zoo was...   \n",
       "\n",
       "                                             tagline  \n",
       "0           utah premiere venue for contemporary art  \n",
       "1             support for families research for cure  \n",
       "2                          the house that love built  \n",
       "3                             live the life you want  \n",
       "4  strengthening the bond between humans and the ...  "
      ]
     },
     "execution_count": 2,
     "metadata": {},
     "output_type": "execute_result"
    }
   ],
   "source": [
    "df = pd.read_csv('/Users/stewarta/repos/charity-filter-evaluation/evaluation/data/charity_navigator.csv')\n",
    "df.head()"
   ]
  },
  {
   "cell_type": "code",
   "execution_count": 15,
   "metadata": {},
   "outputs": [
    {
     "name": "stdout",
     "output_type": "stream",
     "text": [
      "<class 'pandas.core.frame.DataFrame'>\n",
      "RangeIndex: 9119 entries, 0 to 9118\n",
      "Data columns (total 6 columns):\n",
      "Unnamed: 0    9119 non-null int64\n",
      "category      9119 non-null object\n",
      "cause         9119 non-null object\n",
      "charityid     9119 non-null int64\n",
      "mission       8654 non-null object\n",
      "tagline       8699 non-null object\n",
      "dtypes: int64(2), object(4)\n",
      "memory usage: 427.5+ KB\n"
     ]
    }
   ],
   "source": [
    "df.info()"
   ]
  },
  {
   "cell_type": "markdown",
   "metadata": {},
   "source": [
    "# Data Preparation "
   ]
  },
  {
   "cell_type": "markdown",
   "metadata": {},
   "source": [
    "## Uniformative Columns"
   ]
  },
  {
   "cell_type": "code",
   "execution_count": 3,
   "metadata": {},
   "outputs": [
    {
     "name": "stdout",
     "output_type": "stream",
     "text": [
      "Index(['Unnamed: 0', 'category', 'cause', 'charityid', 'mission', 'tagline'], dtype='object')\n"
     ]
    },
    {
     "data": {
      "text/html": [
       "<div>\n",
       "<style scoped>\n",
       "    .dataframe tbody tr th:only-of-type {\n",
       "        vertical-align: middle;\n",
       "    }\n",
       "\n",
       "    .dataframe tbody tr th {\n",
       "        vertical-align: top;\n",
       "    }\n",
       "\n",
       "    .dataframe thead th {\n",
       "        text-align: right;\n",
       "    }\n",
       "</style>\n",
       "<table border=\"1\" class=\"dataframe\">\n",
       "  <thead>\n",
       "    <tr style=\"text-align: right;\">\n",
       "      <th></th>\n",
       "      <th>category</th>\n",
       "      <th>cause</th>\n",
       "      <th>mission</th>\n",
       "      <th>tagline</th>\n",
       "    </tr>\n",
       "  </thead>\n",
       "  <tbody>\n",
       "    <tr>\n",
       "      <th>0</th>\n",
       "      <td>arts culture humanities</td>\n",
       "      <td>museums</td>\n",
       "      <td>the utah museum of contemporary art advances a...</td>\n",
       "      <td>utah premiere venue for contemporary art</td>\n",
       "    </tr>\n",
       "    <tr>\n",
       "      <th>1</th>\n",
       "      <td>health</td>\n",
       "      <td>diseases disorders and disciplines</td>\n",
       "      <td>the national mps society exists to find cures ...</td>\n",
       "      <td>support for families research for cure</td>\n",
       "    </tr>\n",
       "    <tr>\n",
       "      <th>2</th>\n",
       "      <td>health</td>\n",
       "      <td>patient and family support</td>\n",
       "      <td>the ronald mcdonald house of san francisco rmh...</td>\n",
       "      <td>the house that love built</td>\n",
       "    </tr>\n",
       "    <tr>\n",
       "      <th>3</th>\n",
       "      <td>human services</td>\n",
       "      <td>social services</td>\n",
       "      <td>the mission of the national federation of the ...</td>\n",
       "      <td>live the life you want</td>\n",
       "    </tr>\n",
       "    <tr>\n",
       "      <th>4</th>\n",
       "      <td>animals</td>\n",
       "      <td>zoos and aquariums</td>\n",
       "      <td>the oldest zoo in texas the fort worth zoo was...</td>\n",
       "      <td>strengthening the bond between humans and the ...</td>\n",
       "    </tr>\n",
       "  </tbody>\n",
       "</table>\n",
       "</div>"
      ],
      "text/plain": [
       "                  category                               cause  \\\n",
       "0  arts culture humanities                             museums   \n",
       "1                   health  diseases disorders and disciplines   \n",
       "2                   health          patient and family support   \n",
       "3           human services                     social services   \n",
       "4                  animals                  zoos and aquariums   \n",
       "\n",
       "                                             mission  \\\n",
       "0  the utah museum of contemporary art advances a...   \n",
       "1  the national mps society exists to find cures ...   \n",
       "2  the ronald mcdonald house of san francisco rmh...   \n",
       "3  the mission of the national federation of the ...   \n",
       "4  the oldest zoo in texas the fort worth zoo was...   \n",
       "\n",
       "                                             tagline  \n",
       "0           utah premiere venue for contemporary art  \n",
       "1             support for families research for cure  \n",
       "2                          the house that love built  \n",
       "3                             live the life you want  \n",
       "4  strengthening the bond between humans and the ...  "
      ]
     },
     "execution_count": 3,
     "metadata": {},
     "output_type": "execute_result"
    }
   ],
   "source": [
    "print(df.columns)\n",
    "df.drop(['Unnamed: 0','charityid'], axis=1, inplace=True)\n",
    "df.head()"
   ]
  },
  {
   "cell_type": "markdown",
   "metadata": {},
   "source": [
    "## Missing Data"
   ]
  },
  {
   "cell_type": "code",
   "execution_count": 4,
   "metadata": {},
   "outputs": [
    {
     "data": {
      "text/plain": [
       "<matplotlib.axes._subplots.AxesSubplot at 0x10ff33c50>"
      ]
     },
     "execution_count": 4,
     "metadata": {},
     "output_type": "execute_result"
    },
    {
     "data": {
      "image/png": "[encoded data removed]",
      "text/plain": [
       "<Figure size 1800x720 with 2 Axes>"
      ]
     },
     "metadata": {
      "needs_background": "light"
     },
     "output_type": "display_data"
    }
   ],
   "source": [
    "msno.matrix(df)"
   ]
  },
  {
   "cell_type": "code",
   "execution_count": 5,
   "metadata": {},
   "outputs": [
    {
     "name": "stdout",
     "output_type": "stream",
     "text": [
      "<class 'pandas.core.frame.DataFrame'>\n",
      "Int64Index: 8638 entries, 0 to 9118\n",
      "Data columns (total 4 columns):\n",
      "category    8638 non-null object\n",
      "cause       8638 non-null object\n",
      "mission     8638 non-null object\n",
      "tagline     8638 non-null object\n",
      "dtypes: object(4)\n",
      "memory usage: 337.4+ KB\n"
     ]
    }
   ],
   "source": [
    "## Drop Empty Rows\n",
    "df.dropna(axis=0, how='any', inplace=True)\n",
    "df.info()"
   ]
  },
  {
   "cell_type": "markdown",
   "metadata": {},
   "source": [
    "## Class Imbalance\n",
    "\n",
    "We can upsample to handle the class imbalance or use an algorithm (e.g.: Tree-based) that is insensitve to the class imbalance."
   ]
  },
  {
   "cell_type": "code",
   "execution_count": 6,
   "metadata": {},
   "outputs": [
    {
     "data": {
      "text/plain": [
       "human services                2430\n",
       "arts culture humanities       1228\n",
       "health                         894\n",
       "community development          807\n",
       "education                      671\n",
       "international                  626\n",
       "animals                        485\n",
       "religion                       465\n",
       "environment                    447\n",
       "human and civil rights         370\n",
       "research and public policy     215\n",
       "Name: category, dtype: int64"
      ]
     },
     "execution_count": 6,
     "metadata": {},
     "output_type": "execute_result"
    }
   ],
   "source": [
    "df['category'].value_counts()\n",
    "#df['cause'].value_counts()"
   ]
  },
  {
   "cell_type": "markdown",
   "metadata": {},
   "source": [
    "## Feature Encoding"
   ]
  },
  {
   "cell_type": "code",
   "execution_count": 7,
   "metadata": {},
   "outputs": [
    {
     "data": {
      "text/html": [
       "<div>\n",
       "<style scoped>\n",
       "    .dataframe tbody tr th:only-of-type {\n",
       "        vertical-align: middle;\n",
       "    }\n",
       "\n",
       "    .dataframe tbody tr th {\n",
       "        vertical-align: top;\n",
       "    }\n",
       "\n",
       "    .dataframe thead th {\n",
       "        text-align: right;\n",
       "    }\n",
       "</style>\n",
       "<table border=\"1\" class=\"dataframe\">\n",
       "  <thead>\n",
       "    <tr style=\"text-align: right;\">\n",
       "      <th></th>\n",
       "      <th>category</th>\n",
       "      <th>cause</th>\n",
       "      <th>mission</th>\n",
       "      <th>tagline</th>\n",
       "      <th>text</th>\n",
       "    </tr>\n",
       "  </thead>\n",
       "  <tbody>\n",
       "    <tr>\n",
       "      <th>0</th>\n",
       "      <td>arts culture humanities</td>\n",
       "      <td>museums</td>\n",
       "      <td>the utah museum of contemporary art advances a...</td>\n",
       "      <td>utah premiere venue for contemporary art</td>\n",
       "      <td>the utah museum of contemporary art advances a...</td>\n",
       "    </tr>\n",
       "    <tr>\n",
       "      <th>1</th>\n",
       "      <td>health</td>\n",
       "      <td>diseases disorders and disciplines</td>\n",
       "      <td>the national mps society exists to find cures ...</td>\n",
       "      <td>support for families research for cure</td>\n",
       "      <td>the national mps society exists to find cures ...</td>\n",
       "    </tr>\n",
       "    <tr>\n",
       "      <th>2</th>\n",
       "      <td>health</td>\n",
       "      <td>patient and family support</td>\n",
       "      <td>the ronald mcdonald house of san francisco rmh...</td>\n",
       "      <td>the house that love built</td>\n",
       "      <td>the ronald mcdonald house of san francisco rmh...</td>\n",
       "    </tr>\n",
       "    <tr>\n",
       "      <th>3</th>\n",
       "      <td>human services</td>\n",
       "      <td>social services</td>\n",
       "      <td>the mission of the national federation of the ...</td>\n",
       "      <td>live the life you want</td>\n",
       "      <td>the mission of the national federation of the ...</td>\n",
       "    </tr>\n",
       "    <tr>\n",
       "      <th>4</th>\n",
       "      <td>animals</td>\n",
       "      <td>zoos and aquariums</td>\n",
       "      <td>the oldest zoo in texas the fort worth zoo was...</td>\n",
       "      <td>strengthening the bond between humans and the ...</td>\n",
       "      <td>the oldest zoo in texas the fort worth zoo was...</td>\n",
       "    </tr>\n",
       "  </tbody>\n",
       "</table>\n",
       "</div>"
      ],
      "text/plain": [
       "                  category                               cause  \\\n",
       "0  arts culture humanities                             museums   \n",
       "1                   health  diseases disorders and disciplines   \n",
       "2                   health          patient and family support   \n",
       "3           human services                     social services   \n",
       "4                  animals                  zoos and aquariums   \n",
       "\n",
       "                                             mission  \\\n",
       "0  the utah museum of contemporary art advances a...   \n",
       "1  the national mps society exists to find cures ...   \n",
       "2  the ronald mcdonald house of san francisco rmh...   \n",
       "3  the mission of the national federation of the ...   \n",
       "4  the oldest zoo in texas the fort worth zoo was...   \n",
       "\n",
       "                                             tagline  \\\n",
       "0           utah premiere venue for contemporary art   \n",
       "1             support for families research for cure   \n",
       "2                          the house that love built   \n",
       "3                             live the life you want   \n",
       "4  strengthening the bond between humans and the ...   \n",
       "\n",
       "                                                text  \n",
       "0  the utah museum of contemporary art advances a...  \n",
       "1  the national mps society exists to find cures ...  \n",
       "2  the ronald mcdonald house of san francisco rmh...  \n",
       "3  the mission of the national federation of the ...  \n",
       "4  the oldest zoo in texas the fort worth zoo was...  "
      ]
     },
     "execution_count": 7,
     "metadata": {},
     "output_type": "execute_result"
    }
   ],
   "source": [
    "# merge all text to create a document\n",
    "df['text'] = df.mission + df.tagline\n",
    "df.head()"
   ]
  },
  {
   "cell_type": "markdown",
   "metadata": {},
   "source": [
    "## Convert Target to Integer\n"
   ]
  },
  {
   "cell_type": "code",
   "execution_count": 8,
   "metadata": {},
   "outputs": [
    {
     "name": "stdout",
     "output_type": "stream",
     "text": [
      "['animals' 'arts culture humanities' 'community development' 'education'\n",
      " 'environment' 'health' 'human and civil rights' 'human services'\n",
      " 'international' 'religion' 'research and public policy']\n"
     ]
    },
    {
     "data": {
      "text/html": [
       "<div>\n",
       "<style scoped>\n",
       "    .dataframe tbody tr th:only-of-type {\n",
       "        vertical-align: middle;\n",
       "    }\n",
       "\n",
       "    .dataframe tbody tr th {\n",
       "        vertical-align: top;\n",
       "    }\n",
       "\n",
       "    .dataframe thead th {\n",
       "        text-align: right;\n",
       "    }\n",
       "</style>\n",
       "<table border=\"1\" class=\"dataframe\">\n",
       "  <thead>\n",
       "    <tr style=\"text-align: right;\">\n",
       "      <th></th>\n",
       "      <th>category</th>\n",
       "      <th>cause</th>\n",
       "      <th>mission</th>\n",
       "      <th>tagline</th>\n",
       "      <th>text</th>\n",
       "      <th>target</th>\n",
       "    </tr>\n",
       "  </thead>\n",
       "  <tbody>\n",
       "    <tr>\n",
       "      <th>0</th>\n",
       "      <td>arts culture humanities</td>\n",
       "      <td>museums</td>\n",
       "      <td>the utah museum of contemporary art advances a...</td>\n",
       "      <td>utah premiere venue for contemporary art</td>\n",
       "      <td>the utah museum of contemporary art advances a...</td>\n",
       "      <td>1</td>\n",
       "    </tr>\n",
       "    <tr>\n",
       "      <th>1</th>\n",
       "      <td>health</td>\n",
       "      <td>diseases disorders and disciplines</td>\n",
       "      <td>the national mps society exists to find cures ...</td>\n",
       "      <td>support for families research for cure</td>\n",
       "      <td>the national mps society exists to find cures ...</td>\n",
       "      <td>5</td>\n",
       "    </tr>\n",
       "    <tr>\n",
       "      <th>2</th>\n",
       "      <td>health</td>\n",
       "      <td>patient and family support</td>\n",
       "      <td>the ronald mcdonald house of san francisco rmh...</td>\n",
       "      <td>the house that love built</td>\n",
       "      <td>the ronald mcdonald house of san francisco rmh...</td>\n",
       "      <td>5</td>\n",
       "    </tr>\n",
       "    <tr>\n",
       "      <th>3</th>\n",
       "      <td>human services</td>\n",
       "      <td>social services</td>\n",
       "      <td>the mission of the national federation of the ...</td>\n",
       "      <td>live the life you want</td>\n",
       "      <td>the mission of the national federation of the ...</td>\n",
       "      <td>7</td>\n",
       "    </tr>\n",
       "    <tr>\n",
       "      <th>4</th>\n",
       "      <td>animals</td>\n",
       "      <td>zoos and aquariums</td>\n",
       "      <td>the oldest zoo in texas the fort worth zoo was...</td>\n",
       "      <td>strengthening the bond between humans and the ...</td>\n",
       "      <td>the oldest zoo in texas the fort worth zoo was...</td>\n",
       "      <td>0</td>\n",
       "    </tr>\n",
       "  </tbody>\n",
       "</table>\n",
       "</div>"
      ],
      "text/plain": [
       "                  category                               cause  \\\n",
       "0  arts culture humanities                             museums   \n",
       "1                   health  diseases disorders and disciplines   \n",
       "2                   health          patient and family support   \n",
       "3           human services                     social services   \n",
       "4                  animals                  zoos and aquariums   \n",
       "\n",
       "                                             mission  \\\n",
       "0  the utah museum of contemporary art advances a...   \n",
       "1  the national mps society exists to find cures ...   \n",
       "2  the ronald mcdonald house of san francisco rmh...   \n",
       "3  the mission of the national federation of the ...   \n",
       "4  the oldest zoo in texas the fort worth zoo was...   \n",
       "\n",
       "                                             tagline  \\\n",
       "0           utah premiere venue for contemporary art   \n",
       "1             support for families research for cure   \n",
       "2                          the house that love built   \n",
       "3                             live the life you want   \n",
       "4  strengthening the bond between humans and the ...   \n",
       "\n",
       "                                                text  target  \n",
       "0  the utah museum of contemporary art advances a...       1  \n",
       "1  the national mps society exists to find cures ...       5  \n",
       "2  the ronald mcdonald house of san francisco rmh...       5  \n",
       "3  the mission of the national federation of the ...       7  \n",
       "4  the oldest zoo in texas the fort worth zoo was...       0  "
      ]
     },
     "execution_count": 8,
     "metadata": {},
     "output_type": "execute_result"
    }
   ],
   "source": [
    "target = 'category'\n",
    "\n",
    "le = preprocessing.LabelEncoder()\n",
    "le.fit(df[target])\n",
    "\n",
    "print(le.classes_)\n",
    "df['target'] = le.transform(df[target]) \n",
    "\n",
    "df.head()\n"
   ]
  },
  {
   "cell_type": "markdown",
   "metadata": {},
   "source": [
    "# Build Model : Charity Only"
   ]
  },
  {
   "cell_type": "markdown",
   "metadata": {},
   "source": [
    "## Train and Test Sets"
   ]
  },
  {
   "cell_type": "code",
   "execution_count": 9,
   "metadata": {},
   "outputs": [],
   "source": [
    "seed = 1\n",
    "X_train, X_test, y_train, y_test = train_test_split(df.text, df.target, test_size=0.20, random_state=seed)"
   ]
  },
  {
   "cell_type": "markdown",
   "metadata": {},
   "source": [
    "## Pipelines"
   ]
  },
  {
   "cell_type": "code",
   "execution_count": 10,
   "metadata": {},
   "outputs": [],
   "source": [
    "# convert to count,  word2vec, doc2vec\n",
    "\n",
    "pipe_mnb = Pipeline([\n",
    "    ('vect', CountVectorizer()),\n",
    "    ('tfidf', TfidfTransformer()),\n",
    "    ('clf', MultinomialNB()),\n",
    "])\n",
    "\n",
    "pipe_svm = Pipeline([\n",
    "    ('vect', CountVectorizer()),\n",
    "    ('tfidf', TfidfTransformer()),\n",
    "    ('clf', svm.SVC(decision_function_shape='ovo', random_state=seed)),\n",
    "])\n",
    "\n",
    "\n",
    "pipe_sgd = Pipeline([\n",
    "    ('vect', CountVectorizer()),\n",
    "    ('tfidf', TfidfTransformer()),\n",
    "    ('clf', SGDClassifier(tol=None,random_state=seed)),\n",
    "])"
   ]
  },
  {
   "cell_type": "markdown",
   "metadata": {},
   "source": [
    "## Grid Search Parameters"
   ]
  },
  {
   "cell_type": "code",
   "execution_count": 12,
   "metadata": {},
   "outputs": [],
   "source": [
    "# Set grid search params\n",
    "param_range = [1, 2, 3, 4, 5, 6, 7, 8, 9, 10]\n",
    "\n",
    "grid_params_mnb = [{\n",
    "    'vect__ngram_range': [(1, 1), (1, 2)],\n",
    "    'tfidf__use_idf': (True, False),\n",
    "    'clf__fit_prior': (True, False),\n",
    "}] \n",
    "\n",
    "\n",
    "grid_params_svm = [{\n",
    "    'vect__ngram_range': [(1, 1), (1, 2)],\n",
    "    'tfidf__use_idf': (True, False),\n",
    "    'clf__kernel': ['linear', 'rbf', 'poly'], \n",
    "    'clf__C': param_range,\n",
    "}]\n",
    "\n",
    "grid_params_sgd = [{\n",
    "    'vect__ngram_range': [(1, 1), (1, 2)],\n",
    "    'tfidf__use_idf': (True, False),\n",
    "    'clf__penalty': ['l1', 'l2','elasticnet'],\n",
    "    'clf__loss' : ('hinge', 'squared_hinge'),\n",
    "    'clf__alpha': (1e-2, 1e-3),\n",
    "}]"
   ]
  },
  {
   "cell_type": "markdown",
   "metadata": {
    "toc-hr-collapsed": false
   },
   "source": [
    "## Grid Search"
   ]
  },
  {
   "cell_type": "code",
   "execution_count": 14,
   "metadata": {},
   "outputs": [],
   "source": [
    "# Construct grid searches\n",
    "jobs = -1\n",
    "\n",
    "gs_mnb = GridSearchCV(\n",
    "    estimator=pipe_mnb,\n",
    "    param_grid=grid_params_mnb,\n",
    "    scoring='accuracy',\n",
    "    cv=10) \n",
    "\n",
    "gs_svm = GridSearchCV(\n",
    "    estimator=pipe_svm,\n",
    "    param_grid=grid_params_svm,\n",
    "    scoring='accuracy',\n",
    "    cv=10)\n",
    "\n",
    "\n",
    "gs_sgd = GridSearchCV(\n",
    "    estimator=pipe_sgd,\n",
    "    param_grid=grid_params_sgd,\n",
    "    scoring='accuracy',\n",
    "    cv=10, \n",
    "    n_jobs=jobs)\n",
    "\n",
    "\n",
    "# List of pipelines for ease of iteration\n",
    "grids = [gs_mnb, gs_svm, gs_sgd]\n",
    "\n",
    "# Dictionary of pipelines and classifier types for ease of reference\n",
    "grid_dict = {0: 'Multinomial Naive Bayes', 1: 'Support Vector Machine', \n",
    "             2: 'Stocastic Gradient Descent'}"
   ]
  },
  {
   "cell_type": "markdown",
   "metadata": {},
   "source": [
    "# Evaluation Performance"
   ]
  },
  {
   "cell_type": "code",
   "execution_count": null,
   "metadata": {},
   "outputs": [
    {
     "name": "stdout",
     "output_type": "stream",
     "text": [
      "Performing model optimizations...\n",
      "\n",
      "Estimator: Multinomial Naive Bayes\n",
      "Best params: {'clf__fit_prior': False, 'tfidf__use_idf': True, 'vect__ngram_range': (1, 1)}\n",
      "Best training accuracy: 0.560\n",
      "Test set accuracy score for best params: 0.560 \n",
      "\n",
      "Estimator: Support Vector Machine\n"
     ]
    }
   ],
   "source": [
    "# Fit the grid search objects\n",
    "print('Performing model optimizations...')\n",
    "best_acc = 0.0\n",
    "best_clf = 0\n",
    "best_gs = ''\n",
    "for idx, gs in enumerate(grids):\n",
    "    print('\\nEstimator: %s' % grid_dict[idx])\n",
    "    # Fit grid search\n",
    "    gs.fit(X_train, y_train)\n",
    "    # Best params \n",
    "    print('Best params: %s' % gs.best_params_)\n",
    "    # Best training data accuracy\n",
    "    print('Best training accuracy: %.3f' % gs.best_score_)\n",
    "    # Predict on test data with best params\n",
    "    y_pred = gs.predict(X_test)\n",
    "    # Test data accuracy of model with best params\n",
    "    print('Test set accuracy score for best params: %.3f ' % accuracy_score(y_test, y_pred))\n",
    "    # Track best (highest test accuracy) model\n",
    "    if accuracy_score(y_test, y_pred) > best_acc:\n",
    "        best_acc = accuracy_score(y_test, y_pred)\n",
    "        best_gs = gs\n",
    "        best_clf = idx\n",
    "print('\\nClassifier with best test set accuracy: %s' % grid_dict[best_clf])\n",
    "\n",
    "# Save best grid search pipeline to file\n",
    "#dump_file = 'best_gs_pipeline.pkl'\n",
    "#joblib.dump(best_gs, dump_file, compress=1)\n",
    "print('\\nSaved %s grid search pipeline to file: %s' % (grid_dict[best_clf], dump_file))"
   ]
  }
 ],
 "metadata": {
  "kernelspec": {
   "display_name": "Charity Evaluation",
   "language": "python",
   "name": "char-env"
  },
  "language_info": {
   "codemirror_mode": {
    "name": "ipython",
    "version": 3
   },
   "file_extension": ".py",
   "mimetype": "text/x-python",
   "name": "python",
   "nbconvert_exporter": "python",
   "pygments_lexer": "ipython3",
   "version": "3.7.3"
  },
  "toc-autonumbering": true
 },
 "nbformat": 4,
 "nbformat_minor": 2
}
