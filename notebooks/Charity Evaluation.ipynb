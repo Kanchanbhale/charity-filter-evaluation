{
 "cells": [
  {
   "cell_type": "markdown",
   "metadata": {},
   "source": [
    "# Introduction\n",
    "\n",
    "\n",
    "Now: Naive Bayes, measure gut feeling\n",
    "\n",
    "Experimental Goal: Emperical evaluation matching\n",
    "\n",
    "Problem : \n",
    "* Transfer Problem: model bias, train charity and want to apply model to news\n",
    "* Choice Target Variable: Target Variable : Cause (37) or category (11)\n",
    "\n",
    "Design:\n",
    "2) Compare performance of several approaches.\n"
   ]
  },
  {
   "cell_type": "markdown",
   "metadata": {},
   "source": [
    "# Python Imports"
   ]
  },
  {
   "cell_type": "code",
   "execution_count": 32,
   "metadata": {},
   "outputs": [],
   "source": [
    "import pandas as pd\n",
    "\n",
    "%matplotlib inline\n",
    "import matplotlib.pyplot as plt\n",
    "\n",
    "import matplotlib\n",
    "import numpy as np\n",
    "import missingno as msno\n",
    "\n",
    "from sklearn.feature_extraction.text import TfidfVectorizer\n",
    "\n",
    "from sklearn import preprocessing\n",
    "\n",
    "from sklearn.naive_bayes import MultinomialNB\n",
    "from sklearn.linear_model import SGDClassifier\n",
    "from sklearn import svm\n",
    "\n",
    "from sklearn.model_selection import train_test_split\n",
    "from sklearn.pipeline import Pipeline\n",
    "from sklearn.model_selection import GridSearchCV\n",
    "from sklearn.metrics import accuracy_score\n",
    "from sklearn.externals import joblib"
   ]
  },
  {
   "cell_type": "markdown",
   "metadata": {},
   "source": [
    "# Data Set"
   ]
  },
  {
   "cell_type": "code",
   "execution_count": 33,
   "metadata": {},
   "outputs": [
    {
     "data": {
      "text/html": [
       "<div>\n",
       "<style scoped>\n",
       "    .dataframe tbody tr th:only-of-type {\n",
       "        vertical-align: middle;\n",
       "    }\n",
       "\n",
       "    .dataframe tbody tr th {\n",
       "        vertical-align: top;\n",
       "    }\n",
       "\n",
       "    .dataframe thead th {\n",
       "        text-align: right;\n",
       "    }\n",
       "</style>\n",
       "<table border=\"1\" class=\"dataframe\">\n",
       "  <thead>\n",
       "    <tr style=\"text-align: right;\">\n",
       "      <th></th>\n",
       "      <th>Unnamed: 0</th>\n",
       "      <th>category</th>\n",
       "      <th>cause</th>\n",
       "      <th>charityid</th>\n",
       "      <th>mission</th>\n",
       "      <th>tagline</th>\n",
       "    </tr>\n",
       "  </thead>\n",
       "  <tbody>\n",
       "    <tr>\n",
       "      <th>0</th>\n",
       "      <td>0</td>\n",
       "      <td>arts culture humanities</td>\n",
       "      <td>museums</td>\n",
       "      <td>9745</td>\n",
       "      <td>the utah museum of contemporary art advances a...</td>\n",
       "      <td>utah premiere venue for contemporary art</td>\n",
       "    </tr>\n",
       "    <tr>\n",
       "      <th>1</th>\n",
       "      <td>1</td>\n",
       "      <td>health</td>\n",
       "      <td>diseases disorders and disciplines</td>\n",
       "      <td>8857</td>\n",
       "      <td>the national mps society exists to find cures ...</td>\n",
       "      <td>support for families research for cure</td>\n",
       "    </tr>\n",
       "    <tr>\n",
       "      <th>2</th>\n",
       "      <td>2</td>\n",
       "      <td>health</td>\n",
       "      <td>patient and family support</td>\n",
       "      <td>14464</td>\n",
       "      <td>the ronald mcdonald house of san francisco rmh...</td>\n",
       "      <td>the house that love built</td>\n",
       "    </tr>\n",
       "    <tr>\n",
       "      <th>3</th>\n",
       "      <td>3</td>\n",
       "      <td>human services</td>\n",
       "      <td>social services</td>\n",
       "      <td>4177</td>\n",
       "      <td>the mission of the national federation of the ...</td>\n",
       "      <td>live the life you want</td>\n",
       "    </tr>\n",
       "    <tr>\n",
       "      <th>4</th>\n",
       "      <td>4</td>\n",
       "      <td>animals</td>\n",
       "      <td>zoos and aquariums</td>\n",
       "      <td>3718</td>\n",
       "      <td>the oldest zoo in texas the fort worth zoo was...</td>\n",
       "      <td>strengthening the bond between humans and the ...</td>\n",
       "    </tr>\n",
       "  </tbody>\n",
       "</table>\n",
       "</div>"
      ],
      "text/plain": [
       "   Unnamed: 0                 category                               cause  \\\n",
       "0           0  arts culture humanities                             museums   \n",
       "1           1                   health  diseases disorders and disciplines   \n",
       "2           2                   health          patient and family support   \n",
       "3           3           human services                     social services   \n",
       "4           4                  animals                  zoos and aquariums   \n",
       "\n",
       "   charityid                                            mission  \\\n",
       "0       9745  the utah museum of contemporary art advances a...   \n",
       "1       8857  the national mps society exists to find cures ...   \n",
       "2      14464  the ronald mcdonald house of san francisco rmh...   \n",
       "3       4177  the mission of the national federation of the ...   \n",
       "4       3718  the oldest zoo in texas the fort worth zoo was...   \n",
       "\n",
       "                                             tagline  \n",
       "0           utah premiere venue for contemporary art  \n",
       "1             support for families research for cure  \n",
       "2                          the house that love built  \n",
       "3                             live the life you want  \n",
       "4  strengthening the bond between humans and the ...  "
      ]
     },
     "execution_count": 33,
     "metadata": {},
     "output_type": "execute_result"
    }
   ],
   "source": [
    "df = pd.read_csv('/Users/stewarta/repos/charity-filter-evaluation/evaluation/data/charity_navigator.csv')\n",
    "df.head()"
   ]
  },
  {
   "cell_type": "code",
   "execution_count": 34,
   "metadata": {},
   "outputs": [
    {
     "name": "stdout",
     "output_type": "stream",
     "text": [
      "<class 'pandas.core.frame.DataFrame'>\n",
      "RangeIndex: 9119 entries, 0 to 9118\n",
      "Data columns (total 6 columns):\n",
      "Unnamed: 0    9119 non-null int64\n",
      "category      9119 non-null object\n",
      "cause         9119 non-null object\n",
      "charityid     9119 non-null int64\n",
      "mission       8654 non-null object\n",
      "tagline       8699 non-null object\n",
      "dtypes: int64(2), object(4)\n",
      "memory usage: 427.5+ KB\n"
     ]
    }
   ],
   "source": [
    "df.info()"
   ]
  },
  {
   "cell_type": "markdown",
   "metadata": {},
   "source": [
    "# Preprocess and Explore Data "
   ]
  },
  {
   "cell_type": "markdown",
   "metadata": {},
   "source": [
    "## Uniformative Columns"
   ]
  },
  {
   "cell_type": "code",
   "execution_count": 35,
   "metadata": {},
   "outputs": [
    {
     "name": "stdout",
     "output_type": "stream",
     "text": [
      "Index(['Unnamed: 0', 'category', 'cause', 'charityid', 'mission', 'tagline'], dtype='object')\n"
     ]
    },
    {
     "data": {
      "text/html": [
       "<div>\n",
       "<style scoped>\n",
       "    .dataframe tbody tr th:only-of-type {\n",
       "        vertical-align: middle;\n",
       "    }\n",
       "\n",
       "    .dataframe tbody tr th {\n",
       "        vertical-align: top;\n",
       "    }\n",
       "\n",
       "    .dataframe thead th {\n",
       "        text-align: right;\n",
       "    }\n",
       "</style>\n",
       "<table border=\"1\" class=\"dataframe\">\n",
       "  <thead>\n",
       "    <tr style=\"text-align: right;\">\n",
       "      <th></th>\n",
       "      <th>category</th>\n",
       "      <th>cause</th>\n",
       "      <th>mission</th>\n",
       "      <th>tagline</th>\n",
       "    </tr>\n",
       "  </thead>\n",
       "  <tbody>\n",
       "    <tr>\n",
       "      <th>0</th>\n",
       "      <td>arts culture humanities</td>\n",
       "      <td>museums</td>\n",
       "      <td>the utah museum of contemporary art advances a...</td>\n",
       "      <td>utah premiere venue for contemporary art</td>\n",
       "    </tr>\n",
       "    <tr>\n",
       "      <th>1</th>\n",
       "      <td>health</td>\n",
       "      <td>diseases disorders and disciplines</td>\n",
       "      <td>the national mps society exists to find cures ...</td>\n",
       "      <td>support for families research for cure</td>\n",
       "    </tr>\n",
       "    <tr>\n",
       "      <th>2</th>\n",
       "      <td>health</td>\n",
       "      <td>patient and family support</td>\n",
       "      <td>the ronald mcdonald house of san francisco rmh...</td>\n",
       "      <td>the house that love built</td>\n",
       "    </tr>\n",
       "    <tr>\n",
       "      <th>3</th>\n",
       "      <td>human services</td>\n",
       "      <td>social services</td>\n",
       "      <td>the mission of the national federation of the ...</td>\n",
       "      <td>live the life you want</td>\n",
       "    </tr>\n",
       "    <tr>\n",
       "      <th>4</th>\n",
       "      <td>animals</td>\n",
       "      <td>zoos and aquariums</td>\n",
       "      <td>the oldest zoo in texas the fort worth zoo was...</td>\n",
       "      <td>strengthening the bond between humans and the ...</td>\n",
       "    </tr>\n",
       "  </tbody>\n",
       "</table>\n",
       "</div>"
      ],
      "text/plain": [
       "                  category                               cause  \\\n",
       "0  arts culture humanities                             museums   \n",
       "1                   health  diseases disorders and disciplines   \n",
       "2                   health          patient and family support   \n",
       "3           human services                     social services   \n",
       "4                  animals                  zoos and aquariums   \n",
       "\n",
       "                                             mission  \\\n",
       "0  the utah museum of contemporary art advances a...   \n",
       "1  the national mps society exists to find cures ...   \n",
       "2  the ronald mcdonald house of san francisco rmh...   \n",
       "3  the mission of the national federation of the ...   \n",
       "4  the oldest zoo in texas the fort worth zoo was...   \n",
       "\n",
       "                                             tagline  \n",
       "0           utah premiere venue for contemporary art  \n",
       "1             support for families research for cure  \n",
       "2                          the house that love built  \n",
       "3                             live the life you want  \n",
       "4  strengthening the bond between humans and the ...  "
      ]
     },
     "execution_count": 35,
     "metadata": {},
     "output_type": "execute_result"
    }
   ],
   "source": [
    "print(df.columns)\n",
    "df.drop(['Unnamed: 0','charityid'], axis=1, inplace=True)\n",
    "df.head()"
   ]
  },
  {
   "cell_type": "markdown",
   "metadata": {},
   "source": [
    "## Missing Data"
   ]
  },
  {
   "cell_type": "code",
   "execution_count": 36,
   "metadata": {},
   "outputs": [
    {
     "data": {
      "text/plain": [
       "<matplotlib.axes._subplots.AxesSubplot at 0x128156f98>"
      ]
     },
     "execution_count": 36,
     "metadata": {},
     "output_type": "execute_result"
    },
    {
     "data": {
      "image/png": "[encoded data removed]",
      "text/plain": [
       "<Figure size 1800x720 with 2 Axes>"
      ]
     },
     "metadata": {
      "needs_background": "light"
     },
     "output_type": "display_data"
    }
   ],
   "source": [
    "msno.matrix(df)"
   ]
  },
  {
   "cell_type": "code",
   "execution_count": 37,
   "metadata": {},
   "outputs": [
    {
     "name": "stdout",
     "output_type": "stream",
     "text": [
      "<class 'pandas.core.frame.DataFrame'>\n",
      "Int64Index: 8638 entries, 0 to 9118\n",
      "Data columns (total 4 columns):\n",
      "category    8638 non-null object\n",
      "cause       8638 non-null object\n",
      "mission     8638 non-null object\n",
      "tagline     8638 non-null object\n",
      "dtypes: object(4)\n",
      "memory usage: 337.4+ KB\n"
     ]
    }
   ],
   "source": [
    "## Drop Empty Rows\n",
    "df.dropna(axis=0, how='any', inplace=True)\n",
    "df.info()"
   ]
  },
  {
   "cell_type": "markdown",
   "metadata": {},
   "source": [
    "## Class Imbalance\n",
    "\n",
    "We can upsample to handle the class imbalance or use an algorithm (e.g.: Tree-based) that is insensitve to the class imbalance."
   ]
  },
  {
   "cell_type": "code",
   "execution_count": 38,
   "metadata": {},
   "outputs": [
    {
     "data": {
      "text/plain": [
       "social services                                  701\n",
       "youth development shelter and crisis services    559\n",
       "performing arts                                  559\n",
       "museums                                          397\n",
       "united ways                                      395\n",
       "development and relief services                  388\n",
       "Name: cause, dtype: int64"
      ]
     },
     "execution_count": 38,
     "metadata": {},
     "output_type": "execute_result"
    }
   ],
   "source": [
    "df['cause'].value_counts()[0:10]"
   ]
  },
  {
   "cell_type": "markdown",
   "metadata": {
    "toc-hr-collapsed": false
   },
   "source": [
    "## Feature Encoding"
   ]
  },
  {
   "cell_type": "markdown",
   "metadata": {},
   "source": [
    "### Target \n"
   ]
  },
  {
   "cell_type": "code",
   "execution_count": 40,
   "metadata": {},
   "outputs": [
    {
     "data": {
      "text/plain": [
       "29    701\n",
       "23    559\n",
       "34    559\n",
       "20    397\n",
       "32    395\n",
       "6     388\n",
       "1     370\n",
       "4     356\n",
       "35    335\n",
       "12    334\n",
       "Name: target, dtype: int64"
      ]
     },
     "execution_count": 40,
     "metadata": {},
     "output_type": "execute_result"
    }
   ],
   "source": [
    "target = 'cause'\n",
    "\n",
    "le = preprocessing.LabelEncoder()\n",
    "le.fit(df[target])\n",
    "#print(le.classes_)\n",
    "df['target'] = le.transform(df[target]) \n",
    "df['target'].value_counts()[0:10]"
   ]
  },
  {
   "cell_type": "markdown",
   "metadata": {},
   "source": [
    "### Corpus"
   ]
  },
  {
   "cell_type": "code",
   "execution_count": 41,
   "metadata": {},
   "outputs": [
    {
     "data": {
      "text/html": [
       "<div>\n",
       "<style scoped>\n",
       "    .dataframe tbody tr th:only-of-type {\n",
       "        vertical-align: middle;\n",
       "    }\n",
       "\n",
       "    .dataframe tbody tr th {\n",
       "        vertical-align: top;\n",
       "    }\n",
       "\n",
       "    .dataframe thead th {\n",
       "        text-align: right;\n",
       "    }\n",
       "</style>\n",
       "<table border=\"1\" class=\"dataframe\">\n",
       "  <thead>\n",
       "    <tr style=\"text-align: right;\">\n",
       "      <th></th>\n",
       "      <th>cause</th>\n",
       "      <th>target</th>\n",
       "      <th>corpus</th>\n",
       "    </tr>\n",
       "  </thead>\n",
       "  <tbody>\n",
       "    <tr>\n",
       "      <th>0</th>\n",
       "      <td>museums</td>\n",
       "      <td>20</td>\n",
       "      <td>the utah museum of contemporary art advances a...</td>\n",
       "    </tr>\n",
       "    <tr>\n",
       "      <th>1</th>\n",
       "      <td>diseases disorders and disciplines</td>\n",
       "      <td>7</td>\n",
       "      <td>the national mps society exists to find cures ...</td>\n",
       "    </tr>\n",
       "    <tr>\n",
       "      <th>2</th>\n",
       "      <td>patient and family support</td>\n",
       "      <td>22</td>\n",
       "      <td>the ronald mcdonald house of san francisco rmh...</td>\n",
       "    </tr>\n",
       "    <tr>\n",
       "      <th>3</th>\n",
       "      <td>social services</td>\n",
       "      <td>29</td>\n",
       "      <td>the mission of the national federation of the ...</td>\n",
       "    </tr>\n",
       "    <tr>\n",
       "      <th>4</th>\n",
       "      <td>zoos and aquariums</td>\n",
       "      <td>36</td>\n",
       "      <td>the oldest zoo in texas the fort worth zoo was...</td>\n",
       "    </tr>\n",
       "  </tbody>\n",
       "</table>\n",
       "</div>"
      ],
      "text/plain": [
       "                                cause  target  \\\n",
       "0                             museums      20   \n",
       "1  diseases disorders and disciplines       7   \n",
       "2          patient and family support      22   \n",
       "3                     social services      29   \n",
       "4                  zoos and aquariums      36   \n",
       "\n",
       "                                              corpus  \n",
       "0  the utah museum of contemporary art advances a...  \n",
       "1  the national mps society exists to find cures ...  \n",
       "2  the ronald mcdonald house of san francisco rmh...  \n",
       "3  the mission of the national federation of the ...  \n",
       "4  the oldest zoo in texas the fort worth zoo was...  "
      ]
     },
     "execution_count": 41,
     "metadata": {},
     "output_type": "execute_result"
    }
   ],
   "source": [
    "# merge text to create a document\n",
    "df['corpus'] = df.mission + df.tagline + df.category\n",
    "\n",
    "# drop other columns, convenience\n",
    "df.drop(['mission', 'tagline', 'category'], axis=1, inplace=True)\n",
    "\n",
    "df.head()"
   ]
  },
  {
   "cell_type": "code",
   "execution_count": 47,
   "metadata": {},
   "outputs": [
    {
     "name": "stdout",
     "output_type": "stream",
     "text": [
      "(8638, 6780)\n",
      "['00', '000', '10', '100', '1000', '105', '109', '11', '110', '112', '115', '12', '120', '122', '125', '12th', '13', '130', '134', '135', '14', '140', '145', '15', '150', '157', '15th', '16', '160', '165', '17', '170', '175', '17th', '18', '180', '1858', '1868', '1869', '1874', '1875', '1877', '1879', '1881', '1884', '1885', '1886', '1887', '1888', '1889', '1890', '1891', '1892', '1893', '1894', '1895', '1897', '1898', '1899', '18th', '19', '190', '1900', '1901', '1902', '1903', '1904', '1905', '1906', '1907', '1908', '1909', '1910', '1911', '1912', '1913', '1914', '1915', '1916', '1917', '1918', '1919', '1920', '1921', '1922', '1923', '1924', '1925', '1926', '1927', '1928', '1929', '1930', '1931', '1932', '1933', '1934', '1935', '1936', '1937', '1938', '1939', '1940', '1941', '1942', '1943', '1944', '1945', '1946', '1947', '1948', '1949', '1950', '1951', '1952', '1953', '1954', '1955', '1956', '1957', '1958', '1959', '1960', '1960s', '1961', '1962', '1963', '1964', '1965', '1966', '1967', '1968', '1969', '1970', '1970s', '1971', '1972', '1973', '1974', '1975', '1976', '1977', '1978', '1979', '1980', '1980s', '1981', '1982', '1983', '1984', '1985', '1986', '1987', '1988', '1989', '1990', '1991', '1992', '1993', '1994', '1995', '1996', '1997', '1998', '1999', '19th', '20', '200', '2000', '2001', '2002', '2003', '2004', '2005', '2006', '2007', '2008', '2009', '2010', '2011', '2012', '2013', '2014', '2015', '2016', '2017', '2018', '2020', '20th', '21', '210', '21st', '22', '220', '225', '23', '230', '24', '240', '25', '250', '26', '260', '27', '270', '275', '28', '280', '29', '30', '300', '31', '32', '320', '33', '34', '35', '350', '36', '360', '365', '37', '370', '375', '38', '39', '40', '400', '41', '42', '43', '44', '440', '45', '450', '46', '47', '48', '49', '50', '500', '501', '501c3', '51', '52', '53', '54', '55', '550', '56', '57', '59', '5th', '60', '600', '62', '63', '64', '65', '650', '66', '67', '68', '69', '6th', '70', '700', '71', '72', '75', '750', '77', '78', '80', '800', '81', '82', '83', '84', '85', '850', '87', '88', '89', '8th', '90', '900', '91', '92', '93', '94', '95', '96', '97', '98', '99', 'abandoned', 'abandonment', 'abc', 'abiding', 'abilities', 'ability', 'able', 'abortion', 'abraham', 'abroad', 'abundance', 'abundant', 'abuse', 'abused', 'abusehuman', 'abusers', 'abuses', 'abusive', 'academia', 'academic', 'academically', 'academics', 'academies', 'academy', 'accelerate', 'accelerates', 'accelerating', 'accept', 'acceptance', 'accepted', 'accepting', 'accepts', 'access', 'accessibility', 'accessible', 'accessing', 'accidents', 'acclaim', 'acclaimed', 'accommodate', 'accommodates', 'accommodations', 'accompanied', 'accomplish', 'accomplished', 'accomplishes', 'accomplishing', 'accomplishment', 'accomplishments', 'accordance', 'according', 'accordingly', 'account', 'accountability', 'accountable', 'accounts', 'accreditation', 'accredited', 'accurate', 'achieve', 'achieved', 'achievement', 'achievements', 'achievers', 'achieves', 'achieving', 'aclu', 'acquire', 'acquired', 'acquires', 'acquiring', 'acquisition', 'acre', 'acres', 'act', 'acting', 'action', 'actionhuman', 'actions', 'activate', 'active', 'actively', 'activism', 'activist', 'activists', 'activities', 'activity', 'actor', 'actors', 'acts', 'actual', 'acute', 'ad', 'adams', 'adapt', 'adapted', 'adaptive', 'add', 'added', 'addicted', 'addiction', 'addictions', 'adding', 'addition', 'additional', 'additionally', 'address', 'addressed', 'addresses', 'addressing', 'adequate', 'adequately', 'adjacent', 'adjusted', 'administer', 'administered', 'administering', 'administers', 'administration', 'administrative', 'administrators', 'admission', 'admissions', 'admitted', 'adolescent', 'adolescents', 'adopt', 'adoptable', 'adopted', 'adopting', 'adoption', 'adoptions', 'adoptive', 'adopts', 'adult', 'adulthood', 'adults', 'advance', 'advanced', 'advancement', 'advancements', 'advances', 'advancing', 'advantage', 'advantages', 'adventure', 'adventures', 'adventurous', 'adverse', 'adversity', 'advice', 'advised', 'advising', 'advisor', 'advisors', 'advisory', 'advocacy', 'advocacyhealth', 'advocacyhuman', 'advocate', 'advocates', 'advocating', 'aesthetic', 'affairs', 'affect', 'affected', 'affecting', 'affects', 'affiliate', 'affiliated', 'affiliates', 'affiliation', 'affirm', 'affirming', 'affirms', 'afflicted', 'afford', 'affordable', 'afghanistan', 'africa', 'africainternational', 'african', 'africans', 'aftercare', 'aftermath', 'afterschool', 'age', 'aged', 'agencies', 'agency', 'agenda', 'agendas', 'agent', 'agents', 'ages', 'agesarts', 'aggressive', 'aggressively', 'aging', 'ago', 'agreement', 'agricultural', 'agriculture', 'ahead', 'aid', 'aiding', 'aids', 'aidshealth', 'aim', 'aimed', 'aims', 'air', 'aircraft', 'airs', 'akron', 'al', 'alabama', 'alameda', 'alaska', 'albany', 'albert', 'albuquerque', 'alcohol', 'alexandria', 'align', 'aligned', 'alike', 'alive', 'allegheny', 'allen', 'alleviate', 'alleviating', 'alleviation', 'allhuman', 'alliance', 'alliances', 'allied', 'allies', 'alllive', 'allocate', 'allocating', 'allocations', 'allow', 'allowed', 'allowing', 'allows', 'allresearch', 'alonehealth', 'alongside', 'als', 'alshealth', 'altering', 'alternative', 'alternatives', 'alto', 'alumni', 'alzheimer', 'amateur', 'amazing', 'amazon', 'ambassadors', 'ambitious', 'amendment', 'amenities', 'america', 'americaarts', 'americahuman', 'american', 'americans', 'americanshuman', 'americas', 'amherst', 'amigos', 'amounts', 'amplify', 'amyotrophic', 'analyses', 'analysis', 'analysts', 'analyze', 'anchor', 'anchorage', 'ancient', 'anderson', 'andrew', 'angel', 'angeles', 'angels', 'animal', 'animals', 'animalsanimals', 'ann', 'anne', 'anniversary', 'annual', 'annually', 'answer', 'answered', 'answers', 'anthropology', 'anti', 'anticipate', 'antonio', 'apart', 'apartment', 'apartments', 'apologetics', 'appalachian', 'appeal', 'appealing', 'appeals', 'applicants', 'application', 'applications', 'applied', 'applies', 'apply', 'applying', 'appointed', 'appreciate', 'appreciation', 'approach', 'approaches', 'appropriate', 'appropriately', 'approved', 'approximately', 'april', 'aquarium', 'aquariums', 'aquatic', 'aquatics', 'arab', 'arbor', 'arboretum', 'archaeological', 'archaeology', 'archdiocese', 'architect', 'architects', 'architectural', 'architecture', 'archival', 'archive', 'archives', 'area', 'areaarts', 'areabuilding', 'areahuman', 'areas', 'aren', 'arena', 'arise', 'arizona', 'ark', 'arkansas', 'arlington', 'arm', 'armed', 'armenia', 'armenian', 'arms', 'army', 'array', 'arrive', 'art', 'artarts', 'arthritis', 'arthur', 'articles', 'articulate', 'artifacts', 'artist', 'artistic', 'artistically', 'artistry', 'artists', 'artistsarts', 'arts', 'artsarts', 'artseducation', 'artwork', 'artworks', 'arundel', 'asf', 'asia', 'asian', 'ask', 'asked', 'aspect', 'aspects', 'aspen', 'aspirations', 'aspire', 'aspires', 'aspiring', 'assault', 'assaulthuman', 'assemblies', 'assembly', 'assess', 'assesses', 'assessing', 'assessment', 'assessments', 'asset', 'assets', 'assigned', 'assist', 'assistance', 'assistants', 'assisted', 'assisting', 'assists', 'associated', 'associates', 'association', 'associations', 'assume', 'assumed', 'assure', 'assures', 'assuring', 'asthma', 'athlete', 'athletes', 'athletic', 'athletics', 'atlanta', 'atlantic', 'atmosphere', 'attack', 'attacks', 'attain', 'attainable', 'attaining', 'attainment', 'attempt', 'attend', 'attendance', 'attended', 'attending', 'attention', 'attitude', 'attitudes', 'attorney', 'attorneys', 'attract', 'attracted', 'attracting', 'attraction', 'attractions', 'attractive', 'attracts', 'auction', 'audience', 'audiencearts', 'audiences', 'audiencesarts', 'audio', 'auditorium', 'audubon', 'augment', 'august', 'auspices', 'austin', 'australia', 'authentic', 'author', 'authority', 'authors', 'autism', 'autoimmune', 'automobile', 'automotive', 'autonomous', 'availability', 'available', 'avenue', 'avenues', 'average', 'aviation', 'avoid', 'awakening', 'award', 'awarded', 'awarding', 'awards', 'aware', 'awareness', 'away', 'babies', 'baby', 'backbone', 'background', 'backgrounds', 'backpack', 'bad', 'bags', 'baker', 'balance', 'balanced', 'ballet', 'ballets', 'baltimore', 'band', 'bank', 'banks', 'baptist', 'bar', 'barbara', 'barn', 'baroque', 'barrier', 'barriers', 'base', 'baseball', 'based', 'bases', 'basic', 'basics', 'basin', 'basis', 'basketball', 'baskets', 'baton', 'battered', 'battle', 'battling', 'bay', 'beach', 'beaches', 'beacon', 'bear', 'bears', 'beautiful', 'beautifully', 'beauty', 'bed', 'bedroom', 'bedrooms', 'beds', 'began', 'begin', 'beginning', 'beginnings', 'begins', 'begun', 'behalf', 'behavior', 'behavioral', 'behaviors', 'beings', 'beit', 'belief', 'beliefs', 'believe', 'believed', 'believers', 'believes', 'believing', 'bell', 'belong', 'belonging', 'beloved', 'ben', 'bend', 'benefactors', 'beneficial', 'beneficiaries', 'beneficiary', 'benefit', 'benefited', 'benefiting', 'benefits', 'benjamin', 'benton', 'bereaved', 'bereavement', 'berkeley', 'berks', 'berkshire', 'bernardino', 'best', 'bethesda', 'better', 'betterment', 'bexar', 'bi', 'bias', 'bible', 'bibles', 'biblical', 'biblically', 'bicycle', 'bicycling', 'biennial', 'bifida', 'big', 'bigger', 'biggest', 'bigs', 'bike', 'biking', 'bilingual', 'billion', 'bills', 'biodiversity', 'biological', 'biologists', 'biology', 'biomedical', 'bipartisan', 'bird', 'birds', 'birmingham', 'birth', 'birthday', 'bisexual', 'bishop', 'bishops', 'black', 'blend', 'blending', 'blessed', 'blessing', 'blind', 'blindness', 'block', 'blocks', 'blood', 'blue', 'board', 'boarding', 'boards', 'boasts', 'boat', 'boating', 'boats', 'bob', 'bodies', 'body', 'bold', 'boldhuman', 'boldly', 'bolster', 'bond', 'bonds', 'bone', 'bono', 'book', 'books', 'border', 'borders', 'born', 'boroughs', 'boston', 'botanic', 'botanical', 'boulder', 'bound', 'boundaries', 'box', 'boxes', 'boy', 'boys', 'braille', 'brain', 'branch', 'branches', 'brand', 'brave', 'brazil', 'bread', 'breadth', 'break', 'breakfast', 'breaking', 'breaks', 'breakthrough', 'breakthroughs', 'breast', 'breathe', 'breed', 'breeding', 'brevard', 'bridge', 'bridges', 'bridging', 'briefings', 'bright', 'brighter', 'brightest', 'brilliant', 'bring', 'bringing', 'brings', 'britain', 'british', 'broad', 'broadcast', 'broadcaster', 'broadcasting', 'broadcasts', 'broaden', 'broadened', 'broadening', 'broader', 'broadest', 'broadway', 'brochures', 'broken', 'bronx', 'brookline', 'brooklyn', 'brooks', 'brother', 'brothers', 'brought', 'broward', 'brown', 'bryan', 'bsa', 'bucks', 'budget', 'budgeting', 'budgets', 'buffalo', 'build', 'builder', 'builders', 'building', 'buildings', 'builds', 'built', 'builthealth', 'bullying', 'burden', 'burdens', 'bureau', 'burgeoning', 'burlington', 'burn', 'burns', 'bus', 'bush', 'business', 'businesses', 'businessmen', 'busy', 'butler', 'buy', 'ca', 'cable', 'cac', 'cafe', 'café', 'calendar', 'caliber', 'california', 'californians', 'called', 'calling', 'calls', 'cambodia', 'camden', 'came', 'camp', 'campaign', 'campaigns', 'campers', 'camping', 'camps', 'campus', 'campuses', 'canada', 'canadian', 'cancer', 'cancerhealth', 'cancers', 'cancershealth', 'candidate', 'candidates', 'canine', 'canyon', 'cap', 'capabilities', 'capability', 'capable', 'capacities', 'capacity', 'cape', 'capital', 'capitol', 'captivate', 'captive', 'captivity', 'capture', 'car', 'carbon', 'cardiac', 'cardiovascular', 'cards', 'care', 'cared', 'career', 'careers', 'careful', 'carefully', 'caregiver', 'caregivers', 'carehealth', 'carehuman', 'cares', 'caribbean', 'caring', 'carl', 'carnegie', 'carolina', 'carolinahuman', 'carolinas', 'carried', 'carries', 'carroll', 'carry', 'carrying', 'cars', 'carter', 'casa', 'case', 'cases', 'cash', 'cat', 'catalyst', 'catalysts', 'catalyze', 'catalyzing', 'catastrophic', 'categories', 'catholic', 'catholics', 'cats', 'caught', 'cause', 'caused', 'causes', 'cca', 'cdc', 'cds', 'cec', 'cedar', 'celebrate', 'celebrated', 'celebrates', 'celebrating', 'celebration', 'celebrations', 'celebrities', 'celebrity', 'cell', 'cemetery', 'center', 'centerarts', 'centered', 'centerhealth', 'centerhuman', 'centers', 'central', 'centre', 'cents', 'centuries', 'century', 'ceo', 'ceramics', 'cerebral', 'certain', 'certification', 'certified', 'cfc', 'chain', 'chairman', 'challenge', 'challenged', 'challenges', 'challenging', 'chamber', 'champion', 'championing', 'champions', 'championship', 'chance', 'chances', 'change', 'changed', 'changehuman', 'changeinternational', 'changelive', 'changes', 'changing', 'channel', 'channels', 'chapel', 'chapter', 'chapters', 'character', 'characteristics', 'characterized', 'charge', 'charged', 'charitable', 'charities', 'charity', 'charles', 'charleston', 'charlotte', 'charlottesville', 'chart', 'charter', 'chartered', 'chattanooga', 'chefs', 'chemical', 'chemicals', 'cherished', 'cherokee', 'chesapeake', 'chest', 'chester', 'cheyenne', 'chicago', 'chicagoland', 'chief', 'child', 'childbirth', 'childcare', 'childhood', 'childhuman', 'childinternational', 'children', 'childreneducation', 'childrenhealth', 'childrenhuman', 'childreninternational', 'childrenproviding', 'china', 'chinese', 'choice', 'choices', 'choir', 'choose', 'choosing', 'choral', 'chorale', 'choreographers', 'choreography', 'chorus', 'chosen', 'christ', 'christhuman', 'christian', 'christianity', 'christians', 'christinternational', 'christmas', 'christreligion', 'chronic', 'chronically', 'church', 'churches', 'churchreligion', 'cincinnati', 'cinema', 'cinematic', 'circle', 'circles', 'circumstance', 'circumstances', 'cis', 'cities', 'citizen', 'citizenry', 'citizens', 'citizensgreat', 'citizenship', 'citrus', 'city', 'cityarts', 'cityhuman', 'civic', 'civil', 'civilian', 'civilization', 'claims', 'clara', 'clark', 'class', 'classes', 'classic', 'classical', 'classics', 'classroom', 'classrooms', 'clay', 'clean', 'cleaner', 'cleaning', 'clear', 'clearinghouse', 'clearwater', 'clergy', 'cleveland', 'client', 'clients', 'climate', 'climb', 'climbing', 'clinic', 'clinical', 'clinicians', 'clinics', 'clinton', 'clock', 'close', 'closed', 'closehealth', 'closely', 'closer', 'closing', 'clothe', 'clothes', 'clothing', 'club', 'clubhouse', 'clubhouses', 'clubs', 'cma', 'coach', 'coachella', 'coaches', 'coaching', 'coalition', 'coalitions', 'coast', 'coastal', 'code', 'coexistence', 'cognitive', 'cold', 'collaborate', 'collaborates', 'collaborating', 'collaboration', 'collaborations', 'collaborative', 'collaboratively', 'collaborators', 'colleagues', 'collect', 'collected', 'collecting', 'collection', 'collections', 'collective', 'collectively', 'collects', 'college', 'collegeeducation', 'colleges', 'collegiate', 'collier', 'collin', 'colonial', 'colony', 'color', 'coloradans', 'colorado', 'columbia', 'columbus', 'combat', 'combating', 'combats', 'combination', 'combine', 'combined', 'combines', 'combining', 'come', 'comedy', 'comes', 'comfort', 'comfortable', 'coming', 'commentary', 'commerce', 'commercial', 'commission', 'commissioned', 'commissioning', 'commissionreligion', 'commissions', 'commit', 'commitment', 'commits', 'committed', 'committee', 'committees', 'commodities', 'common', 'commonwealth', 'communal', 'communicate', 'communicates', 'communicating', 'communication', 'communications', 'communist', 'communities', 'communitiesarts', 'communitiescommunity', 'communitieseducation', 'communitiesenvironment', 'communitieshelping', 'communitieshuman', 'communitiesinternational', 'communitiesproviding', 'communitiesthe', 'communitieswe', 'community', 'communityanimals', 'communityarts', 'communitycommunity', 'communityeducation', 'communityhealth', 'communityhelping', 'communityhuman', 'communitylive', 'communityproviding', 'communitythe', 'companies', 'companion', 'companions', 'companionship', 'company', 'companyarts', 'compared', 'compassion', 'compassionanimals', 'compassionate', 'compassionately', 'compatible', 'compelling', 'compete', 'competence', 'competent', 'competition', 'competitions', 'competitive', 'complement', 'complemented', 'complete', 'completed', 'completely', 'completing', 'completion', 'complex', 'complexities', 'complicated', 'complications', 'component', 'components', 'composed', 'composer', 'composers', 'comprehensive', 'comprehensively', 'comprise', 'comprised', 'comprises', 'comprising', 'compromise', 'computer', 'computers', 'conceived', 'concentrate', 'concentrated', 'concentrating', 'concentration', 'concept', 'conception', 'concepts', 'concern', 'concerned', 'concerning', 'concerns', 'concert', 'concerts', 'concrete', 'concurrently', 'condition', 'conditions', 'conduct', 'conducted', 'conducting', 'conductor', 'conductors', 'conducts', 'conference', 'conferences', 'confidence', 'confident', 'confidential', 'conflict', 'conflicts', 'confront', 'confronted', 'confronting', 'congenital', 'congo', 'congregate', 'congregation', 'congregations', 'congress', 'congressional', 'conjunction', 'connect', 'connected', 'connecticut', 'connecting', 'connection', 'connections', 'connects', 'conquer', 'conquering', 'conscience', 'conscientious', 'conscious', 'consciousness', 'consecutive', 'consensus', 'consequences', 'conservancy', 'conservation', 'conservationanimals', 'conservationenvironment', 'conservationists', 'conservative', 'conservatory', 'conserve', 'conserves', 'conserving', 'consider', 'considerably', 'considered', 'considering', 'consist', 'consistent', 'consistently', 'consisting', 'consists', 'consortium', 'constant', 'constantly', 'constituencies', 'constituency', 'constituents', 'constitution', 'constitutional', 'construct', 'constructed', 'constructing', 'construction', 'constructive', 'consultant', 'consultation', 'consultative', 'consulting', 'consumer', 'consumers', 'consumption', 'contact', 'containers', 'contains', 'contemporary', 'content', 'context', 'contexts', 'continent', 'continents', 'continually', 'continue', 'continued', 'continues', 'continuing', 'continuity', 'continuous', 'continuously', 'continuum', 'contra', 'contract', 'contracts', 'contribute', 'contributed', 'contributes', 'contributing', 'contribution', 'contributions', 'contributors', 'control', 'controlling', 'convene', 'convener', 'convenes', 'convenient', 'convening', 'conventional', 'conversation', 'conversations', 'convert', 'convey', 'conviction', 'convinced', 'cook', 'cooked', 'cooking', 'cooperate', 'cooperating', 'cooperation', 'cooperative', 'cooperatively', 'coordinate', 'coordinated', 'coordinates', 'coordinating', 'coordination', 'coordinators', 'cope', 'coping', 'cord', 'core', 'corner', 'corners', 'cornerstone', 'corporate', 'corporation', 'corporations', 'corps', 'correspondence', 'corridor', 'corruption', 'cost', 'costa', 'costs', 'cottages', 'council', 'councils', 'counsel', 'counseling', 'counselors', 'count', 'counter', 'counterpart', 'counties', 'countieshuman', 'countless', 'countries', 'country', 'county', 'countycommunity', 'countyhuman', 'countylive', 'couple', 'coupled', 'couples', 'courage', 'courageous', 'course', 'courses', 'court', 'courts', 'covenant', 'cover', 'coverage', 'covered', 'covering', 'covers', 'cracks', 'cradle', 'craft', 'crafted', 'crafts', 'create', 'created', 'creates', 'creating', 'creation', 'creative', 'creatively', 'creativity', 'creators', 'creatures', 'credibility', 'credible', 'credit', 'credited', 'creed', 'creeds', 'creek', 'crime', 'crimes', 'criminal', 'crises', 'crisis', 'crisishuman', 'criteria', 'critical', 'critically', 'crops', 'cross', 'crossroads', 'crown', 'crucial', 'cruel', 'cruelty', 'cruz', 'csf', 'cso', 'css', 'ct', 'cub', 'cuba', 'culinary', 'cultivate', 'cultivates', 'cultivating', 'cultivation', 'cultural', 'culturally', 'culture', 'culturearts', 'cultures', 'cumberland', 'cure', 'cured', 'curehealth', 'cures', 'cureshealth', 'curing', 'curiosity', 'curious', 'current', 'currently', 'curricula', 'curricular', 'curriculum', 'custody', 'customer', 'customized', 'cut', 'cutting', 'cuyahoga', 'cycle', 'cycles', 'cycling', 'cystic', 'dade', 'dads', 'daily', 'dairy', 'dakota', 'dallas', 'damage', 'damaged', 'dance', 'dancearts', 'dancers', 'dane', 'danger', 'dangerous', 'dangers', 'dare', 'data', 'database', 'date', 'dating', 'daughters', 'david', 'davidson', 'davis', 'day', 'daycare', 'days', 'daytime', 'dayton', 'dba', 'dc', 'deadly', 'deaf', 'deal', 'dealing', 'deals', 'death', 'deaths', 'debate', 'debates', 'debilitating', 'debt', 'decade', 'decades', 'december', 'decent', 'decide', 'decided', 'decision', 'decisions', 'declaration', 'declining', 'decorative', 'decrease', 'dedicate', 'dedicated', 'dedication', 'deductible', 'deed', 'deep', 'deepen', 'deepening', 'deeper', 'deeply', 'defeat', 'defend', 'defenders', 'defending', 'defends', 'defense', 'define', 'defined', 'defines', 'defining', 'definition', 'degeneration', 'degenerative', 'degradation', 'degree', 'degrees', 'dekalb', 'delaware', 'delay', 'delays', 'delight', 'deliver', 'delivered', 'delivering', 'delivers', 'delivery', 'demand', 'demands', 'dementia', 'democracy', 'democratic', 'demonstrate', 'demonstrated', 'demonstrates', 'demonstrating', 'demonstration', 'demonstrations', 'denied', 'denominational', 'denominations', 'dental', 'denver', 'department', 'departments', 'depend', 'dependable', 'dependence', 'dependency', 'dependent', 'dependents', 'depending', 'depends', 'deployed', 'deploying', 'deployment', 'depression', 'depth', 'des', 'descent', 'described', 'desert', 'deserts', 'deserve', 'deserves', 'deserving', 'design', 'designated', 'designation', 'designed', 'designers', 'designing', 'designs', 'desire', 'desired', 'desires', 'despair', 'desperate', 'desperately', 'despite', 'destination', 'destiny', 'destitute', 'destroyed', 'destruction', 'destructive', 'detailed', 'detection', 'determination', 'determine', 'determined', 'determines', 'detroit', 'devastated', 'devastating', 'develop', 'developed', 'developer', 'developing', 'development', 'developmental', 'developmentally', 'developmentinternational', 'developments', 'develops', 'devote', 'devoted', 'devotes', 'devotion', 'diabetes', 'diabeteshealth', 'diabetic', 'diagnosed', 'diagnosis', 'diagnostic', 'diagnostics', 'dialogue', 'diapers', 'diaspora', 'did', 'die', 'died', 'diego', 'diet', 'diets', 'difference', 'differencehuman', 'differences', 'different', 'difficult', 'difficulties', 'digital', 'dignified', 'dignity', 'dignityhuman', 'diligently', 'diminish', 'dining', 'dinner', 'diocese', 'diploma', 'dire', 'direct', 'directed', 'directing', 'direction', 'directly', 'director', 'directors', 'directs', 'disabilities', 'disabilitieshuman', 'disability', 'disabled', 'disadvantaged', 'disaster', 'disasters', 'discarded', 'disciple', 'disciples', 'discipleship', 'disciplinary', 'discipline', 'disciplined', 'disciplines', 'discipling', 'disconnected', 'discourse', 'discover', 'discovered', 'discoveries', 'discovering', 'discovery', 'discoveryarts', 'discrimination', 'discuss', 'discussion', 'discussions', 'disease', 'diseasehealth', 'diseases', 'disenfranchised', 'disney', 'disorder', 'disorders', 'disordershealth', 'disparities', 'displaced', 'displacement', 'display', 'displays', 'disseminate', 'disseminates', 'disseminating', 'dissemination', 'distance', 'distinct', 'distinction', 'distinctive', 'distinguished', 'distress', 'distressed', 'distribute', 'distributed', 'distributes', 'distributing', 'distribution', 'distributions', 'distributor', 'distributors', 'district', 'districts', 'diverse', 'diversified', 'diversity', 'divided', 'divides', 'divine', 'division', 'divisions', 'divorce', 'doctor', 'doctors', 'document', 'documentaries', 'documentary', 'documentation', 'documented', 'documenting', 'documents', 'does', 'doesn', 'dog', 'dogs', 'doing', 'dollar', 'dollars', 'domestic', 'domestically', 'dominican', 'don', 'donald', 'donate', 'donated', 'donates', 'donating', 'donation', 'donations', 'donor', 'donors', 'door', 'doors', 'douglas', 'downtown', 'dozen', 'dozens', 'dr', 'drama', 'dramatic', 'dramatically', 'draw', 'drawing', 'drawings', 'drawn', 'draws', 'dream', 'dreams', 'dreamseducation', 'drinking', 'drive', 'driven', 'driver', 'drivers', 'drives', 'driving', 'drop', 'dropout', 'dropouts', 'drug', 'drugs', 'dual', 'dues', 'dump', 'dupage', 'durable', 'durham', 'duties', 'duty', 'duval', 'dying', 'dynamic', 'dysfunction', 'dystrophy', 'eager', 'eagle', 'earliest', 'early', 'earn', 'earned', 'earning', 'earth', 'ease', 'eases', 'easier', 'easily', 'east', 'easter', 'eastern', 'eastside', 'easy', 'eat', 'eating', 'echo', 'eclectic', 'eco', 'ecological', 'ecologically', 'ecology', 'economic', 'economically', 'economics', 'economies', 'economy', 'economyeducation', 'ecosystem', 'ecosystems', 'ecumenical', 'ed', 'edge', 'educate', 'educated', 'educates', 'educating', 'education', 'educational', 'educationally', 'educationarts', 'educationeducation', 'educationempowering', 'educationenvironment', 'educationhealth', 'educationhuman', 'educator', 'educators', 'edward', 'effect', 'effective', 'effectively', 'effectiveness', 'effects', 'efficiency', 'efficient', 'efficiently', 'effort', 'efforts', 'egypt', 'eighteen', 'eighth', 'el', 'elder', 'elderly', 'elders', 'elected', 'elections', 'electricity', 'electronic', 'element', 'elementary', 'elements', 'elevate', 'elevates', 'eligible', 'eliminate', 'eliminating', 'elimination', 'elite', 'elkhart', 'embodies', 'embrace', 'embraced', 'embraces', 'embracing', 'emerald', 'emerge', 'emerged', 'emergencies', 'emergency', 'emerging', 'eminent', 'emotional', 'emotionally', 'emotions', 'empathy', 'emphasis', 'emphasize', 'emphasizes', 'emphasizing', 'empire', 'employ', 'employed', 'employee', 'employees', 'employers', 'employing', 'employment', 'employs', 'empower', 'empowered', 'empowerhuman', 'empowering', 'empowerment', 'empowers', 'enable', 'enabled', 'enables', 'enabling', 'encompass', 'encompasses', 'encompassing', 'encounter', 'encounters', 'encourage', 'encouraged', 'encouragement', 'encourages', 'encouraging', 'end', 'endangered', 'endeavor', 'endeavors', 'ended', 'ending', 'endless', 'endowment', 'endowments', 'ends', 'endure', 'enduring', 'energetic', 'energies', 'energize', 'energy', 'enforce', 'enforcement', 'enforcing', 'engage', 'engaged', 'engagement', 'engagements', 'engages', 'engaging', 'engine', 'engineering', 'engineers', 'england', 'english', 'enhance', 'enhanced', 'enhancement', 'enhancements', 'enhances', 'enhancing', 'enjoy', 'enjoyable', 'enjoyed', 'enjoying', 'enjoyment', 'enjoys', 'enlighten', 'enlightened', 'enlightening', 'enlightenment', 'enlisted', 'enrich', 'enriched', 'enriches', 'enriching', 'enrichment', 'enroll', 'enrolled', 'enrollment', 'ensemble', 'ensembles', 'ensure', 'ensures', 'ensuring', 'enter', 'entering', 'enterprise', 'enterprises', 'enters', 'entertain', 'entertaining', 'entertainment', 'entertainmentarts', 'entertains', 'enthusiasm', 'enthusiastic', 'enthusiasts', 'entire', 'entirely', 'entities', 'entitled', 'entity', 'entrepreneurial', 'entrepreneurs', 'entrepreneurship', 'entrusted', 'entry', 'environment', 'environmental', 'environmentally', 'environmentanimals', 'environmentenvironment', 'environments', 'envision', 'envisioned', 'envisions', 'epidemic', 'epidemichealth', 'epidemics', 'epilepsy', 'episcopal', 'equal', 'equality', 'equally', 'equestrian', 'equine', 'equip', 'equipment', 'equipped', 'equipping', 'equips', 'equitable', 'equity', 'era', 'eradicate', 'eradicating', 'eradication', 'erie', 'escape', 'especially', 'essence', 'essential', 'essentials', 'essex', 'establish', 'established', 'establishes', 'establishing', 'establishment', 'estate', 'esteem', 'estimated', 'eternal', 'eternity', 'ethic', 'ethical', 'ethics', 'ethiopia', 'ethnic', 'ethnically', 'ethnicities', 'ethnicity', 'europe', 'european', 'euthanasia', 'euthanize', 'euthanized', 'evaluate', 'evaluating', 'evaluation', 'evangelical', 'evangelism', 'evangelistic', 'evangelists', 'evangelization', 'evangelize', 'evening', 'event', 'events', 'eventually', 'evercommunity', 'everybody', 'everyday', 'everyonearts', 'evidence', 'evidenced', 'evolution', 'evolved', 'evolving', 'ex', 'exactly', 'examine', 'examines', 'examining', 'example', 'examples', 'exams', 'excel', 'excellence', 'excellent', 'exceptional', 'exceptionally', 'exchange', 'exchanges', 'excite', 'excitement', 'exciting', 'exclusion', 'exclusive', 'exclusively', 'executed', 'executive', 'executives', 'exemplary', 'exemplify', 'exempt', 'exercise', 'exercises', 'exhausted', 'exhibit', 'exhibiting', 'exhibition', 'exhibitions', 'exhibits', 'exist', 'existence', 'existing', 'exists', 'exotic', 'expand', 'expanded', 'expanding', 'expands', 'expansion', 'expansive', 'expectations', 'expected', 'expense', 'expenses', 'experience', 'experiencearts', 'experienced', 'experiences', 'experiencesarts', 'experiencing', 'experiential', 'experiment', 'experimental', 'experimentation', 'expert', 'expertise', 'experts', 'exploitation', 'exploited', 'exploration', 'explorations', 'explore', 'explored', 'explorers', 'explores', 'exploring', 'expose', 'exposed', 'exposes', 'exposing', 'exposure', 'express', 'expressed', 'expression', 'expressions', 'extend', 'extended', 'extending', 'extends', 'extension', 'extensive', 'extensively', 'extent', 'extinction', 'extra', 'extracurricular', 'extraordinary', 'extreme', 'extremely', 'eye', 'eyes', 'fabric', 'face', 'faced', 'faces', 'faceted', 'facets', 'facilitate', 'facilitated', 'facilitates', 'facilitating', 'facilitator', 'facilitators', 'facilities', 'facility', 'facing', 'fact', 'factor', 'factors', 'factory', 'facts', 'faculty', 'failed', 'failure', 'fair', 'fairfield', 'fairness', 'faith', 'faithful', 'faithfully', 'faithreligion', 'faiths', 'fall', 'fallen', 'falling', 'falls', 'fame', 'familiar', 'families', 'familieseducation', 'familieshealth', 'familieshuman', 'familieslive', 'familiesproviding', 'family', 'familyhuman', 'famine', 'famous', 'fanhuman', 'fans', 'far', 'farm', 'farmers', 'farming', 'farmland', 'farms', 'fashion', 'fast', 'faster', 'fastest', 'father', 'fathers', 'favor', 'fe', 'fear', 'fears', 'feature', 'featured', 'features', 'featuring', 'february', 'fed', 'federal', 'federation', 'federations', 'fee', 'feed', 'feeding', 'feeds', 'feel', 'feelings', 'feels', 'fees', 'feet', 'fellow', 'fellows', 'fellowship', 'fellowships', 'felt', 'female', 'feral', 'fertility', 'festival', 'festivals', 'fewer', 'fibrosis', 'field', 'fields', 'fifth', 'fight', 'fighting', 'fights', 'figures', 'filled', 'fills', 'film', 'filmarts', 'filmmakers', 'filmmaking', 'films', 'final', 'finally', 'finance', 'finances', 'financial', 'financially', 'financing', 'finding', 'findings', 'finds', 'fine', 'finest', 'firefighters', 'firm', 'firmly', 'firms', 'fiscal', 'fish', 'fishable', 'fisher', 'fisheries', 'fishermen', 'fishes', 'fishing', 'fit', 'fitness', 'fixed', 'flagship', 'fleet', 'flexible', 'flight', 'flint', 'flood', 'floors', 'florence', 'florida', 'flourish', 'flourishing', 'flow', 'flowing', 'fly', 'flying', 'fm', 'focal', 'focus', 'focused', 'focuses', 'focusing', 'fold', 'folk', 'follow', 'followed', 'followers', 'following', 'food', 'foodbank', 'foods', 'foot', 'football', 'force', 'forced', 'forces', 'foreclosure', 'forefront', 'foreign', 'foremost', 'forest', 'forestry', 'forests', 'forever', 'forge', 'forging', 'forgotten', 'fork', 'form', 'formal', 'formally', 'formation', 'formats', 'formed', 'forming', 'forms', 'formula', 'forsyth', 'fort', 'forth', 'fortunate', 'forum', 'forums', 'forward', 'foster', 'fostering', 'fosters', 'fought', 'foundation', 'foundational', 'foundations', 'founded', 'founder', 'founders', 'founding', 'fourteen', 'fourth', 'fox', 'fragile', 'frail', 'framework', 'frameworks', 'france', 'francis', 'francisco', 'franklin', 'frederick', 'free', 'freedom', 'freedomhuman', 'freedoms', 'freely', 'french', 'frequent', 'frequently', 'fresh', 'freshwater', 'fresno', 'friday', 'friend', 'friendly', 'friends', 'friendship', 'friendships', 'frontier', 'frontline', 'fronts', 'frozen', 'fruit', 'fruits', 'fuel', 'fueling', 'fuels', 'fulfill', 'fulfilled', 'fulfilling', 'fulfillment', 'fulfills', 'fuller', 'fullest', 'fullness', 'fully', 'fulton', 'fun', 'function', 'functional', 'functioning', 'functions', 'fund', 'fundamental', 'funded', 'funder', 'funders', 'funding', 'fundraiser', 'fundraising', 'funds', 'funeral', 'furniture', 'furtherance', 'furthering', 'furthers', 'future', 'futurearts', 'futureeducation', 'futureenvironment', 'futurehuman', 'futureinternational', 'futurelive', 'futures', 'futureseducation', 'futureshuman', 'fy', 'ga', 'gain', 'gained', 'gaining', 'galleries', 'gallery', 'galvanize', 'galveston', 'game', 'games', 'gang', 'gangs', 'gap', 'gaps', 'garden', 'gardeners', 'gardening', 'gardens', 'gas', 'gate', 'gateway', 'gather', 'gathering', 'gatherings', 'gave', 'gay', 'gaza', 'geared', 'ged', 'gehrig', 'gender', 'genders', 'gene', 'general', 'generate', 'generated', 'generates', 'generating', 'generation', 'generational', 'generationreligion', 'generations', 'generosity', 'generous', 'generously', 'generouslycommunity', 'genesis', 'genetic', 'genetics', 'genocide', 'genres', 'genuine', 'geographic', 'geographical', 'geographically', 'george', 'georgia', 'german', 'germany', 'gets', 'getting', 'ghana', 'giant', 'gift', 'gifted', 'gifts', 'girl', 'girls', 'girlshuman', 'given', 'givers', 'gives', 'giving', 'givingcommunity', 'glass', 'global', 'globally', 'globe', 'glorify', 'glory', 'gloucester', 'goal', 'goals', 'god', 'godhuman', 'godliness', 'godly', 'goes', 'going', 'gold', 'golden', 'golf', 'gone', 'good', 'goodcommunity', 'goodhuman', 'goodinternational', 'goodman', 'goods', 'goodwill', 'gospel', 'governance', 'governed', 'governing', 'government', 'governmental', 'governments', 'grace', 'gracious', 'grade', 'grades', 'graduate', 'graduated', 'graduates', 'graduating', 'graduation', 'grammy', 'grand', 'grandparents', 'grant', 'granted', 'grantees', 'granting', 'grantmakers', 'grantmaking', 'grants', 'grass', 'grassroots', 'grateful', 'gratitude', 'great', 'greater', 'greatest', 'greathuman', 'greatly', 'greatness', 'green', 'greening', 'greensboro', 'greenville', 'greenway', 'greenwich', 'grew', 'grief', 'grieving', 'groceries', 'grocers', 'grocery', 'ground', 'groundbreaking', 'grounded', 'grounds', 'groundwork', 'group', 'groups', 'grove', 'grow', 'growhuman', 'growing', 'grown', 'grows', 'growth', 'guarantee', 'guaranteed', 'guard', 'guardian', 'guardians', 'guardianship', 'guatemala', 'guest', 'guests', 'guidance', 'guide', 'guided', 'guidelines', 'guides', 'guiding', 'guild', 'gulf', 'gun', 'habitat', 'habitats', 'habits', 'haiti', 'haitian', 'haitiinternational', 'half', 'hall', 'hallmark', 'halls', 'hamilton', 'hampshire', 'hampton', 'hand', 'handful', 'handicap', 'handicapped', 'handled', 'hands', 'happen', 'happening', 'happens', 'happier', 'happiness', 'happy', 'harassment', 'harbor', 'hard', 'hardship', 'hardships', 'hardworking', 'harlem', 'harm', 'harmed', 'harmful', 'harmony', 'harness', 'harold', 'harris', 'harrison', 'harry', 'hartford', 'harvard', 'harvest', 'hate', 'hatred', 'haven', 'havens', 'having', 'hawaii', 'hawaiian', 'head', 'headquartered', 'headquarters', 'heal', 'healed', 'healing', 'health', 'healthcare', 'healthhealth', 'healthier', 'healthinternational', 'healthlive', 'healthresearch', 'healthy', 'hear', 'heard', 'hearing', 'heart', 'heartland', 'hearts', 'heat', 'heaven', 'heavily', 'hebrew', 'height', 'heighten', 'heightened', 'heights', 'held', 'helen', 'help', 'helped', 'helpers', 'helpful', 'helping', 'helpline', 'helps', 'hemisphere', 'hemophilia', 'henderson', 'henry', 'herearts', 'hereditary', 'herehealth', 'herehuman', 'heritage', 'heritagearts', 'heritageenvironment', 'hero', 'heroes', 'heroeshuman', 'hidden', 'high', 'higher', 'highest', 'highlands', 'highlight', 'highlighting', 'highlights', 'highly', 'highway', 'hiking', 'hill', 'hillel', 'hills', 'hillsborough', 'hire', 'hispanic', 'historic', 'historical', 'historically', 'histories', 'history', 'historyarts', 'hit', 'hiv', 'hold', 'holding', 'holdings', 'holds', 'hole', 'holiday', 'holiness', 'holistic', 'holistically', 'hollywood', 'holocaust', 'holy', 'home', 'homebound', 'homebuyers', 'homehealth', 'homehuman', 'homeland', 'homeless', 'homelesshuman', 'homelessness', 'homelessnesshuman', 'homeowner', 'homeowners', 'homeownership', 'homes', 'homescommunity', 'homeshuman', 'hometown', 'homework', 'honduras', 'honest', 'honesty', 'honor', 'honored', 'honoring', 'honors', 'hope', 'hopebuilding', 'hopecommunity', 'hopeful', 'hopehealth', 'hopehuman', 'hopeinternational', 'hopeless', 'hopelessness', 'hopes', 'horizons', 'horse', 'horseback', 'horsemanship', 'horses', 'horticultural', 'horticulture', 'hospice', 'hospital', 'hospitality', 'hospitalized', 'hospitals', 'host', 'hosted', 'hosting', 'hosts', 'hot', 'hotline', 'hour', 'hours', 'house', 'housed', 'household', 'households', 'houses', 'housing', 'housingcommunity', 'houston', 'howard', 'hub', 'hudson', 'huge', 'human', 'humane', 'humanitarian', 'humanities', 'humanity', 'humans', 'humble', 'hundreds', 'hunger', 'hungerhuman', 'hungerinternational', 'hungry', 'hungryhuman', 'hunters', 'hunting', 'huntington', 'hurricane', 'hurt', 'hurting', 'husband', 'hybrid', 'hygiene', 'icc', 'iconic', 'id', 'idaho', 'idea', 'ideal', 'ideals', 'ideas', 'ideasarts', 'identification', 'identified', 'identifies', 'identify', 'identifying', 'identities', 'identity', 'ideological', 'ideologies', 'ignite', 'ignites', 'igniting', 'ignored', 'ii', 'il', 'ill', 'illegal', 'illinois', 'illiteracy', 'illness', 'illnesses', 'illuminate', 'illuminates', 'illuminating', 'illustrate', 'image', 'images', 'imagination', 'imaginative', 'imagine', 'imax', 'immediate', 'immediately', 'immersion', 'immersive', 'immigrant', 'immigrants', 'immigration', 'immune', 'immunology', 'impact', 'impacted', 'impactful', 'impacting', 'impacts', 'impaired', 'impairedhuman', 'impairment', 'impairments', 'impartial', 'imperatives', 'imperial', 'imperiled', 'implants', 'implement', 'implementation', 'implemented', 'implementing', 'implements', 'implications', 'importance', 'important', 'importantly', 'impoverished', 'impressive', 'imprisoned', 'improve', 'improved', 'improvement', 'improvements', 'improves', 'improving', 'inadequate', 'inappropriate', 'incarcerated', 'incarceration', 'incentives', 'inception', 'incidence', 'include', 'included', 'includes', 'including', 'inclusion', 'inclusive', 'inclusiveness', 'income', 'incomes', 'incorporate', 'incorporated', 'incorporating', 'incorporation', 'increase', 'increased', 'increases', 'increasing', 'increasingly', 'incredible', 'independence', 'independencehuman', 'independencelive', 'independent', 'independently', 'india', 'indian', 'indiana', 'indianapolis', 'indians', 'indigenous', 'indigent', 'indispensable', 'individual', 'individualized', 'individually', 'individuals', 'indonesia', 'indoor', 'industrial', 'industries', 'industry', 'inequality', 'inequities', 'infancy', 'infant', 'infants', 'infections', 'infectious', 'influence', 'influenced', 'influences', 'influencing', 'influential', 'inform', 'informal', 'information', 'informational', 'informative', 'informed', 'informing', 'informs', 'infrastructure', 'infuse', 'infused', 'ingenuity', 'ingredient', 'ingredients', 'inhabitants', 'inherent', 'inherited', 'initial', 'initially', 'initiate', 'initiated', 'initiates', 'initiating', 'initiative', 'initiatives', 'injured', 'injuries', 'injury', 'injustice', 'injustices', 'inland', 'inmates', 'inn', 'inner', 'innocent', 'innovate', 'innovation', 'innovations', 'innovative', 'innovators', 'inquiry', 'insecure', 'insecurity', 'inside', 'insight', 'insightful', 'insights', 'inspiration', 'inspirational', 'inspire', 'inspired', 'inspires', 'inspiring', 'installations', 'instead', 'instill', 'instilling', 'instills', 'institute', 'institutes', 'institution', 'institutional', 'institutions', 'instruction', 'instructional', 'instructors', 'instrument', 'instrumental', 'instruments', 'insurance', 'insure', 'insured', 'intact', 'intake', 'integral', 'integrate', 'integrated', 'integrates', 'integrating', 'integration', 'integrative', 'integrity', 'intellect', 'intellectual', 'intellectually', 'intelligence', 'intelligent', 'intended', 'intends', 'intense', 'intensive', 'intent', 'intentional', 'intentionally', 'inter', 'interact', 'interaction', 'interactions', 'interactive', 'interconnected', 'intercultural', 'interdenominational', 'interdependent', 'interdisciplinary', 'interested', 'interesting', 'interests', 'interfaith', 'intergenerational', 'international', 'internationally', 'internet', 'internship', 'internships', 'interpersonal', 'interpret', 'interpretation', 'interpretations', 'interpreting', 'interpretive', 'interprets', 'interrelated', 'intersection', 'intervention', 'interventions', 'interviews', 'intimate', 'intriguing', 'intrinsic', 'introduce', 'introduced', 'introducing', 'introduction', 'invaluable', 'invasive', 'inventive', 'invest', 'invested', 'investigate', 'investigates', 'investigation', 'investigations', 'investigative', 'investigators', 'investing', 'investment', 'investments', 'investors', 'invests', 'invite', 'invited', 'invites', 'inviting', 'involve', 'involved', 'involvement', 'involves', 'involving', 'iowa', 'iraq', 'ireland', 'irish', 'irreplaceable', 'islamic', 'island', 'islanders', 'islands', 'isle', 'isn', 'isolated', 'isolation', 'israel', 'israeli', 'israelinternational', 'israelis', 'issue', 'issued', 'issues', 'issuesresearch', 'italian', 'italy', 'items', 'itenvironment', 'ja', 'jack', 'jackson', 'jacksonville', 'jail', 'james', 'jane', 'january', 'japanese', 'jazz', 'jcc', 'jean', 'jefferson', 'jeopardy', 'jersey', 'jerusalem', 'jesuit', 'jesus', 'jesusreligion', 'jew', 'jewish', 'jewry', 'jews', 'jfs', 'jim', 'job', 'jobs', 'joe', 'john', 'johns', 'johnson', 'join', 'joined', 'joining', 'joint', 'jones', 'jordan', 'jose', 'joseph', 'journal', 'journalism', 'journalists', 'journals', 'journey', 'joy', 'joyful', 'jr', 'judaism', 'judeo', 'judges', 'judgment', 'judicial', 'july', 'june', 'junior', 'just', 'justice', 'justicehuman', 'justiceinternational', 'juvenile', 'kalamazoo', 'kansas', 'katrina', 'keeping', 'keeps', 'kennedy', 'kent', 'kentuckiana', 'kentucky', 'kenya', 'kept', 'kern', 'key', 'keys', 'keystone', 'kid', 'kidney', 'kids', 'kidshuman', 'kill', 'killed', 'killing', 'kind', 'kindergarten', 'kindness', 'kinds', 'king', 'kingdom', 'kitchen', 'kitchens', 'kits', 'kittens', 'know', 'knowing', 'knowledge', 'knowledgeable', 'known', 'knows', 'knoxville', 'korea', 'la', 'lab', 'labor', 'laboratory', 'labs', 'lack', 'lady', 'lake', 'lakeland', 'lakes', 'lancaster', 'land', 'landmark', 'landmarks', 'landowners', 'lands', 'landscape', 'landscapes', 'language', 'languages', 'large', 'largely', 'larger', 'largest', 'larimer', 'las', 'lasting', 'late', 'later', 'lateral', 'latest', 'latin', 'latino', 'latinos', 'launch', 'launched', 'launching', 'laundry', 'law', 'lawful', 'lawhuman', 'lawmakers', 'lawrence', 'laws', 'lawyer', 'lawyers', 'lay', 'lead', 'leader', 'leaders', 'leaderseducation', 'leadership', 'leadershuman', 'leading', 'leads', 'league', 'leap', 'learn', 'learned', 'learners', 'learning', 'learningarts', 'learns', 'leave', 'leaving', 'lebanon', 'lecture', 'lectures', 'led', 'lee', 'left', 'legacy', 'legal', 'legally', 'legendary', 'legislation', 'legislative', 'legislators', 'legislature', 'lehigh', 'lender', 'lending', 'length', 'lens', 'lesbian', 'lesbians', 'lessen', 'lesser', 'lesson', 'lessons', 'let', 'letters', 'leukemia', 'level', 'levels', 'leverage', 'leveraged', 'leverages', 'leveraging', 'lewis', 'lgbt', 'lgbtq', 'liberal', 'liberties', 'liberty', 'libraries', 'library', 'libraryarts', 'license', 'licensed', 'lies', 'life', 'lifeanimals', 'lifearts', 'lifecommunity', 'lifeeducation', 'lifeenvironment', 'lifehealth', 'lifehelping', 'lifehuman', 'lifeinternational', 'lifeline', 'lifelong', 'lifereligion', 'lifesaving', 'lifespan', 'lifestyle', 'lifestyles', 'lifetime', 'lifetimehuman', 'lifetimes', 'lifetimeshuman', 'lift', 'lifting', 'light', 'lighthouse', 'like', 'likelihood', 'likely', 'limit', 'limited', 'limiting', 'limitless', 'limits', 'lincoln', 'line', 'lines', 'lineup', 'link', 'linkages', 'linked', 'linking', 'links', 'lions', 'list', 'listed', 'listen', 'listener', 'listeners', 'listening', 'literacy', 'literary', 'literate', 'literature', 'litigates', 'litigation', 'little', 'littles', 'livable', 'live', 'livecommunity', 'lived', 'livelihoods', 'lively', 'lives', 'livesanimals', 'livesarts', 'livescommunity', 'liveseducation', 'liveshealth', 'liveshuman', 'livesinternational', 'liveslive', 'livesreligion', 'livestock', 'living', 'll', 'loan', 'loans', 'loaves', 'lobby', 'lobbying', 'local', 'locally', 'locate', 'located', 'location', 'locations', 'lodge', 'lodging', 'london', 'lone', 'loneliness', 'lonely', 'long', 'longer', 'longest', 'look', 'looking', 'looks', 'lord', 'los', 'loss', 'losshuman', 'lost', 'lot', 'lou', 'louis', 'louise', 'louisiana', 'louisville', 'love', 'loveanimals', 'loved', 'loveenvironment', 'lovehuman', 'lovers', 'loves', 'loving', 'low', 'lower', 'lowest', 'loyalty', 'lucas', 'lucie', 'luis', 'luke', 'lunch', 'lunches', 'lung', 'lutheran', 'lynn', 'lyric', 'ma', 'macular', 'madison', 'magazine', 'magic', 'magichuman', 'magnificent', 'mail', 'main', 'maine', 'mainly', 'mainstage', 'mainstream', 'maintain', 'maintained', 'maintaining', 'maintains', 'maintenance', 'major', 'majority', 'make', 'makers', 'makes', 'making', 'malaria', 'malnutrition', 'mammals', 'man', 'manage', 'managed', 'management', 'manager', 'managers', 'manages', 'managing', 'manatee', 'mandate', 'manhattan', 'manna', 'manner', 'mansion', 'manufacturers', 'manuscripts', 'map', 'maps', 'marathon', 'march', 'marginalized', 'maria', 'marin', 'marine', 'marines', 'marion', 'maritime', 'mark', 'marked', 'market', 'marketable', 'marketing', 'marketplace', 'markets', 'marriage', 'marriages', 'marrow', 'marshall', 'martha', 'martin', 'mary', 'maryland', 'mason', 'masonic', 'mass', 'massachusetts', 'massive', 'master', 'masterpieces', 'masters', 'masterworks', 'match', 'matches', 'matching', 'mateo', 'material', 'materials', 'maternal', 'maternity', 'math', 'mathematics', 'matinee', 'matter', 'matters', 'matthew', 'mature', 'maturity', 'maui', 'maximize', 'maximizes', 'maximizing', 'maximum', 'mcdonald', 'meadows', 'meal', 'meals', 'mean', 'meaning', 'meaningful', 'means', 'meant', 'measurable', 'measurably', 'measure', 'measured', 'measures', 'measuring', 'meat', 'mecklenburg', 'media', 'medicaid', 'medical', 'medically', 'medicare', 'medication', 'medications', 'medicine', 'medicines', 'medium', 'meet', 'meeting', 'meetings', 'meets', 'member', 'members', 'membership', 'memorabilia', 'memorable', 'memorial', 'memories', 'memory', 'memphis', 'men', 'mend', 'mental', 'mentally', 'mentor', 'mentored', 'mentoring', 'mentors', 'mentorship', 'mercer', 'mercy', 'merely', 'merged', 'merger', 'merging', 'merit', 'merrimack', 'message', 'messages', 'met', 'method', 'methodist', 'methodology', 'methods', 'metro', 'metropolitan', 'metrowest', 'mexico', 'miami', 'michael', 'michigan', 'micro', 'microenterprise', 'microfinance', 'mid', 'middle', 'middlesex', 'midland', 'midlands', 'midst', 'midwest', 'mile', 'miles', 'military', 'milk', 'miller', 'million', 'millions', 'milwaukee', 'mind', 'minded', 'minds', 'minimal', 'minimize', 'minimum', 'mining', 'minister', 'ministered', 'ministering', 'ministers', 'ministries', 'ministry', 'minneapolis', 'minnesota', 'minnesotans', 'minorities', 'minority', 'minute', 'minutes', 'miracle', 'miss', 'missing', 'mission', 'missionaries', 'missionary', 'missionhuman', 'missions', 'mississippi', 'missouri', 'mistreatment', 'mitchell', 'mitzvah', 'mix', 'mn', 'mobile', 'mobility', 'mobilization', 'mobilize', 'mobilized', 'mobilizes', 'mobilizing', 'model', 'models', 'moderate', 'modern', 'modest', 'modify', 'moines', 'molecular', 'mom', 'moment', 'moments', 'moms', 'monday', 'money', 'monica', 'monitor', 'monitored', 'monitoring', 'monitors', 'monmouth', 'monroe', 'montana', 'monterey', 'montgomery', 'month', 'monthly', 'months', 'monument', 'monuments', 'moral', 'morale', 'morehuman', 'morgan', 'morning', 'morris', 'mortality', 'mortgage', 'mortgages', 'mother', 'mothers', 'motion', 'motivate', 'motivated', 'motivates', 'motivating', 'motivation', 'motor', 'mount', 'mountain', 'mountains', 'moved', 'movement', 'movements', 'moves', 'moving', 'mr', 'mrs', 'ms', 'multi', 'multicultural', 'multidisciplinary', 'multifaceted', 'multimedia', 'multiple', 'multiplying', 'multitude', 'municipal', 'municipalities', 'muscles', 'muscular', 'museum', 'museumarts', 'museums', 'music', 'musical', 'musicals', 'musicarts', 'musicians', 'muslim', 'muslims', 'mutual', 'mutually', 'myriad', 'named', 'namehuman', 'nancy', 'nantucket', 'napa', 'naples', 'nashville', 'nassau', 'nation', 'national', 'nationalities', 'nationally', 'nationals', 'nations', 'nationwide', 'native', 'nativity', 'natural', 'nature', 'natureenvironment', 'naval', 'navigate', 'navigation', 'navy', 'nc', 'near', 'nearby', 'nearly', 'nebraska', 'necessary', 'necessities', 'necessity', 'need', 'needed', 'neededucation', 'needhealth', 'needhuman', 'neediest', 'needing', 'needinternational', 'needless', 'needs', 'needshealth', 'needshuman', 'needslive', 'needy', 'needyhuman', 'negative', 'neglect', 'neglected', 'neglecthuman', 'neighbor', 'neighborhood', 'neighborhoods', 'neighboring', 'neighbors', 'neighborshuman', 'neo', 'nepal', 'nestled', 'net', 'network', 'networking', 'networkreligion', 'networks', 'neurological', 'neuroscience', 'neuter', 'neutered', 'neutering', 'neutral', 'nevada', 'new', 'newark', 'newest', 'newly', 'newman', 'newport', 'news', 'newsletter', 'newsletters', 'newspaper', 'newspapers', 'nexus', 'nfl', 'ngo', 'ngos', 'nh', 'nicaragua', 'niche', 'night', 'nightly', 'nights', 'ninth', 'nj', 'non', 'nondenominational', 'nongovernmental', 'nonpartisan', 'nonprofit', 'nonprofits', 'nonsectarian', 'norfolk', 'normal', 'normalcy', 'normally', 'north', 'northeast', 'northeastern', 'northern', 'northwest', 'northwestern', 'notable', 'noted', 'nourish', 'nourished', 'nourishing', 'nourishment', 'novel', 'november', 'npr', 'nuclear', 'number', 'numbers', 'numerous', 'nurse', 'nursery', 'nurses', 'nursing', 'nurture', 'nurtured', 'nurtures', 'nurturing', 'nutrition', 'nutritional', 'nutritionally', 'nutritious', 'ny', 'nyc', 'oahu', 'oak', 'oakland', 'oasis', 'oath', 'obedience', 'obesity', 'objective', 'objectives', 'objects', 'obligation', 'observatory', 'obstacles', 'obtain', 'obtaining', 'occupational', 'occur', 'occurs', 'ocean', 'oceans', 'october', 'odds', 'offenders', 'offer', 'offered', 'offering', 'offerings', 'offers', 'office', 'officer', 'officers', 'offices', 'official', 'officially', 'officials', 'ohio', 'oil', 'oklahoma', 'olam', 'old', 'older', 'oldest', 'olds', 'olympic', 'olympics', 'omaha', 'oncology', 'ones', 'ongoing', 'online', 'onset', 'onsite', 'open', 'opened', 'opening', 'openly', 'openness', 'opens', 'opera', 'operaarts', 'operas', 'operate', 'operated', 'operates', 'operatic', 'operating', 'operation', 'operational', 'operations', 'opinion', 'opinions', 'opportunities', 'opportunity', 'opportunityeducation', 'opportunityhuman', 'oppose', 'opposes', 'oppressed', 'oppression', 'optimal', 'optimism', 'optimize', 'option', 'options', 'oral', 'orange', 'orchestra', 'orchestraarts', 'orchestral', 'orchestras', 'order', 'ordinary', 'oregon', 'oregonians', 'org', 'organ', 'organic', 'organization', 'organizational', 'organizations', 'organize', 'organized', 'organizers', 'organizes', 'organizing', 'organs', 'orientation', 'oriented', 'origin', 'original', 'originally', 'origins', 'orlando', 'orleans', 'orphan', 'orphanage', 'orphanages', 'orphaned', 'orphans', 'orthodox', 'orthopaedic', 'orthopedic', 'osceola', 'ottawa', 'outcome', 'outcomes', 'outdoor', 'outdoors', 'outgrowth', 'outhuman', 'outings', 'outlet', 'outlets', 'outpatient', 'outreach', 'outreaches', 'outside', 'outstanding', 'outward', 'ovarian', 'overall', 'overarching', 'overcome', 'overcoming', 'overcrowded', 'overlooked', 'overnight', 'overpopulation', 'overseas', 'oversee', 'oversight', 'overwhelming', 'owned', 'owner', 'owners', 'ownership', 'ownhuman', 'owning', 'owns', 'pa', 'pace', 'pacific', 'pack', 'package', 'packages', 'packed', 'packs', 'page', 'paid', 'pain', 'painful', 'painting', 'paintings', 'paired', 'pakistan', 'palestine', 'palestinian', 'palestinians', 'palm', 'palo', 'palsy', 'pan', 'panhandle', 'pantries', 'pantry', 'paper', 'papers', 'par', 'paralyzed', 'parent', 'parental', 'parenthood', 'parenting', 'parents', 'parish', 'parishes', 'park', 'parkenvironment', 'parker', 'parking', 'parkinson', 'parks', 'parksenvironment', 'parochial', 'partial', 'participant', 'participants', 'participate', 'participated', 'participates', 'participating', 'participation', 'participatory', 'particular', 'particularly', 'parties', 'partisan', 'partner', 'partnered', 'partnering', 'partners', 'partnership', 'partnerships', 'parts', 'party', 'pasadena', 'pasco', 'paso', 'pass', 'passage', 'passaic', 'passed', 'passing', 'passion', 'passionate', 'passionately', 'passions', 'past', 'pastarts', 'pastor', 'pastoral', 'pastors', 'path', 'paths', 'pathway', 'pathways', 'patient', 'patients', 'patrick', 'patriotism', 'patrons', 'patterns', 'paul', 'paved', 'pavilion', 'paws', 'pay', 'paying', 'payment', 'payments', 'pbs', 'peace', 'peaceful', 'peak', 'pediatric', 'peer', 'peers', 'peninsula', 'penn', 'pennsylvania', 'people', 'peopleanimals', 'peoplearts', 'peoplecommunity', 'peopleeducation', 'peoplehuman', 'peoplereligion', 'peoples', 'percent', 'percentage', 'perfect', 'perform', 'performance', 'performancearts', 'performances', 'performancesarts', 'performed', 'performers', 'performing', 'performs', 'period', 'periodic', 'periods', 'perishable', 'permanent', 'permanently', 'perpetuate', 'perpetuating', 'persecuted', 'persecution', 'persistence', 'person', 'personal', 'personalized', 'personally', 'personnel', 'persons', 'perspective', 'perspectives', 'pertaining', 'pet', 'peter', 'petersburg', 'pets', 'petsanimals', 'ph', 'pharmaceutical', 'pharmacy', 'phase', 'philadelphia', 'philanthropic', 'philanthropist', 'philanthropists', 'philanthropy', 'philanthropycommunity', 'philharmonic', 'philosophy', 'phoenix', 'phone', 'photographs', 'photography', 'physical', 'physically', 'physician', 'physicians', 'picture', 'piece', 'pieces', 'piedmont', 'pierce', 'pillars', 'pine', 'pinellas', 'pioneer', 'pioneered', 'pioneering', 'pioneers', 'pittsburgh', 'pivotal', 'place', 'placed', 'placehuman', 'placement', 'places', 'placing', 'plain', 'plains', 'plan', 'planet', 'planetanimals', 'planetarium', 'planetenvironment', 'planned', 'planning', 'plans', 'plant', 'planted', 'planting', 'plantings', 'plants', 'plantsenvironment', 'plateau', 'platform', 'platforms', 'play', 'playarts', 'played', 'players', 'playground', 'playgrounds', 'playhouse', 'playing', 'plays', 'playwrights', 'pleasure', 'plight', 'pluralistic', 'plus', 'plymouth', 'poetry', 'point', 'points', 'poised', 'police', 'policies', 'policy', 'policymakers', 'policymaking', 'political', 'politicians', 'politics', 'polk', 'polluters', 'pollution', 'pond', 'pool', 'poor', 'poorest', 'poorhuman', 'pop', 'pops', 'popular', 'population', 'populations', 'port', 'portfolio', 'portion', 'portland', 'position', 'positioned', 'positions', 'positive', 'positively', 'possibilities', 'possibility', 'possible', 'post', 'postsecondary', 'potential', 'potentialhuman', 'potentially', 'potter', 'pounds', 'poverty', 'povertyhuman', 'povertyinternational', 'power', 'powered', 'powerful', 'powerhuman', 'powers', 'practical', 'practice', 'practices', 'practicing', 'practitioners', 'pragmatic', 'prairie', 'praise', 'pray', 'prayer', 'pre', 'preaching', 'precedent', 'precious', 'predominantly', 'preeminent', 'pregnancies', 'pregnancy', 'pregnant', 'prejudice', 'premier', 'premiere', 'premieres', 'premise', 'prenatal', 'prep', 'preparation', 'preparatory', 'prepare', 'prepared', 'preparedness', 'prepares', 'preparing', 'presbyterian', 'preschool', 'preschoolers', 'prescription', 'presence', 'present', 'presentation', 'presentations', 'presented', 'presenter', 'presenters', 'presenting', 'presently', 'presents', 'preservation', 'preserve', 'preserved', 'preserves', 'preserving', 'president', 'presidential', 'press', 'pressing', 'pressure', 'prestigious', 'prevent', 'preventable', 'preventative', 'preventing', 'prevention', 'preventive', 'prevents', 'previously', 'prey', 'price', 'prices', 'pride', 'priests', 'primarily', 'primary', 'prime', 'prince', 'princeton', 'principal', 'principals', 'principle', 'principled', 'principles', 'print', 'printed', 'prints', 'prior', 'priorities', 'prioritize', 'priority', 'prison', 'prisoners', 'prisons', 'pristine', 'privacy', 'private', 'privately', 'privilege', 'privileged', 'prize', 'pro', 'proactive', 'proactively', 'problem', 'problems', 'problemslive', 'procedures', 'proceeds', 'process', 'processes', 'processing', 'proclaim', 'proclaiming', 'produce', 'produced', 'producer', 'producers', 'produces', 'producing', 'product', 'production', 'productions', 'productive', 'productivity', 'products', 'profession', 'professional', 'professionalism', 'professionally', 'professionals', 'professions', 'proficiency', 'profile', 'profit', 'profits', 'profound', 'profoundly', 'program', 'programhuman', 'programmatic', 'programming', 'programs', 'programsarts', 'programshelping', 'programshuman', 'programsproviding', 'programsthe', 'programswe', 'progress', 'progressive', 'project', 'projects', 'proliferation', 'prominent', 'promise', 'promises', 'promising', 'promote', 'promoted', 'promotes', 'promoting', 'promotion', 'prompt', 'pronged', 'proper', 'properly', 'properties', 'property', 'proposals', 'propose', 'proposed', 'prosecution', 'prospective', 'prospects', 'prosper', 'prosperity', 'prosperous', 'prostate', 'prostitution', 'protect', 'protected', 'protecting', 'protection', 'protections', 'protective', 'protects', 'protein', 'proud', 'proudly', 'prove', 'proven', 'provide', 'provided', 'providence', 'provider', 'providers', 'provides', 'providing', 'provision', 'provisions', 'provocative', 'provoke', 'provokes', 'provoking', 'psychiatric', 'psychological', 'psychologically', 'psychology', 'ptsd', 'public', 'publicarts', 'publication', 'publications', 'publicly', 'publish', 'published', 'publisher', 'publishers', 'publishes', 'publishing', 'pueblo', 'puerto', 'puget', 'puppies', 'puppy', 'purchase', 'purchased', 'purchases', 'purchasing', 'pure', 'purpose', 'purposeful', 'purposes', 'pursue', 'pursues', 'pursuing', 'pursuit', 'push', 'putnam', 'puts', 'putting', 'qualified', 'qualify', 'qualifying', 'qualities', 'quality', 'quantities', 'quarter', 'quarterly', 'quarters', 'queer', 'quest', 'question', 'questioning', 'questions', 'quick', 'quickly', 'quiet', 'rabbi', 'rabbits', 'race', 'races', 'racial', 'racing', 'racism', 'radiation', 'radical', 'radio', 'railroad', 'rainforest', 'raise', 'raised', 'raises', 'raising', 'raleigh', 'rallies', 'ranch', 'ranchers', 'ranches', 'range', 'ranging', 'ranked', 'ranks', 'rape', 'rapid', 'rapidly', 'rapids', 'rare', 'rarely', 'rate', 'rated', 'rates', 'reach', 'reached', 'reaches', 'reaching', 'read', 'reader', 'readers', 'readily', 'readiness', 'reading', 'readings', 'ready', 'real', 'realistic', 'realities', 'reality', 'realize', 'realized', 'realizing', 'really', 'reason', 'reasons', 'rebuild', 'rebuilding', 'receive', 'received', 'receives', 'receiving', 'recent', 'recently', 'recipient', 'recipients', 'reclaim', 'recognition', 'recognize', 'recognized', 'recognizes', 'recognizing', 'recommendations', 'reconciliation', 'reconciling', 'reconnect', 'reconstruction', 'record', 'recorded', 'recording', 'recordings', 'records', 'recover', 'recovering', 'recovery', 'recreation', 'recreational', 'recruit', 'recruited', 'recruiting', 'recruitment', 'recruits', 'recycling', 'red', 'redemptive', 'redevelopment', 'redirect', 'redistribute', 'reduce', 'reduced', 'reduces', 'reducing', 'reduction', 'redwood', 'reentry', 'refer', 'reference', 'referral', 'referrals', 'referred', 'refers', 'reflect', 'reflecting', 'reflection', 'reflects', 'reform', 'reformation', 'reforms', 'refuge', 'refugee', 'refugees', 'regain', 'regard', 'regarded', 'regarding', 'regardless', 'region', 'regional', 'regionally', 'regionarts', 'regioncommunity', 'regions', 'register', 'registered', 'registration', 'registry', 'regular', 'regularly', 'regulation', 'regulations', 'regulatory', 'rehab', 'rehabilitate', 'rehabilitated', 'rehabilitates', 'rehabilitating', 'rehabilitation', 'rehabilitative', 'reinforce', 'relate', 'related', 'relating', 'relational', 'relations', 'relationship', 'relationships', 'release', 'released', 'releasing', 'relentless', 'relentlessly', 'relevance', 'relevant', 'reliable', 'reliance', 'reliancehuman', 'reliant', 'relief', 'relies', 'relieve', 'relieving', 'religion', 'religions', 'religious', 'relocate', 'rely', 'relying', 'remain', 'remainder', 'remained', 'remaining', 'remains', 'remarkable', 'remember', 'remote', 'removal', 'remove', 'removed', 'removing', 'renaissance', 'renew', 'renewable', 'renewal', 'renewed', 'renewing', 'renovate', 'renovated', 'renovating', 'renovation', 'renovations', 'renowned', 'rent', 'rental', 'rep', 'repair', 'repairing', 'repairs', 'repertoire', 'repertory', 'replace', 'replicate', 'replicated', 'report', 'reported', 'reporting', 'reports', 'repository', 'represent', 'representation', 'representative', 'representatives', 'represented', 'representing', 'represents', 'reproductive', 'republic', 'reputation', 'request', 'requested', 'requests', 'require', 'required', 'requirements', 'requires', 'resale', 'rescue', 'rescued', 'rescues', 'rescuing', 'research', 'researched', 'researchers', 'researchhealth', 'researching', 'reservation', 'reserve', 'resettlement', 'reside', 'residence', 'residences', 'residencies', 'residency', 'resident', 'residential', 'residents', 'residing', 'resilience', 'resiliency', 'resilient', 'resist', 'resolution', 'resolve', 'resonate', 'resource', 'resourced', 'resources', 'respect', 'respected', 'respectful', 'respectfully', 'respecting', 'respective', 'respects', 'respiratory', 'respite', 'respond', 'responded', 'responders', 'responding', 'responds', 'response', 'responses', 'responsibilities', 'responsibility', 'responsibilityhuman', 'responsible', 'responsibly', 'responsive', 'rest', 'restaurant', 'restaurants', 'restoration', 'restorative', 'restore', 'restored', 'restores', 'restoring', 'restricted', 'restrictions', 'result', 'resulted', 'resulting', 'results', 'resultslive', 'retail', 'retailers', 'retain', 'retention', 'retired', 'retirement', 'retreat', 'retreats', 'return', 'returned', 'returning', 'reunification', 'reunite', 'rev', 'reveal', 'revenue', 'reverse', 'reversing', 'review', 'revitalization', 'revitalize', 'revitalizes', 'revitalizing', 'revival', 'revive', 'revolution', 'revolutionary', 'revolving', 'rewarding', 'rhode', 'rica', 'rich', 'richard', 'richland', 'richly', 'richmond', 'richness', 'rico', 'ridge', 'riding', 'right', 'righteousness', 'rights', 'rightshuman', 'rightsinternational', 'rigor', 'rigorous', 'rise', 'rising', 'risk', 'risks', 'risky', 'river', 'rivers', 'riverside', 'rmhc', 'road', 'roads', 'roanoke', 'robert', 'robust', 'rochester', 'rock', 'rockford', 'rockies', 'rockland', 'rocky', 'roger', 'rogers', 'role', 'roles', 'rolling', 'roman', 'ronald', 'roof', 'room', 'rooms', 'root', 'rooted', 'roots', 'rosa', 'rose', 'roster', 'rotary', 'rotating', 'rouge', 'roughly', 'round', 'rounded', 'route', 'routine', 'row', 'royal', 'rule', 'rules', 'run', 'runaway', 'running', 'runs', 'rural', 'russell', 'russia', 'russian', 'ruth', 'sacramento', 'sacred', 'sacrifice', 'sacrificed', 'sacrifices', 'safe', 'safeguard', 'safeguarding', 'safely', 'safer', 'safety', 'said', 'saint', 'sake', 'sale', 'salem', 'sales', 'salinas', 'salt', 'salvador', 'salvation', 'samaritan', 'san', 'sanctity', 'sanctuaries', 'sanctuary', 'sanitation', 'santa', 'sarasota', 'saratoga', 'satellite', 'satellites', 'satisfy', 'satisfying', 'saturday', 'savannah', 'save', 'saved', 'saves', 'saving', 'savings', 'savior', 'saw', 'say', 'sc', 'scalable', 'scale', 'scaling', 'scenes', 'scenic', 'schedule', 'scheduled', 'scholar', 'scholarly', 'scholars', 'scholarship', 'scholarships', 'scholastic', 'school', 'schoolchildren', 'schooleducation', 'schooling', 'schools', 'schoolseducation', 'sci', 'science', 'sciencearts', 'sciences', 'scientific', 'scientifically', 'scientists', 'sclerosis', 'scope', 'scores', 'scout', 'scouting', 'scouts', 'screen', 'screened', 'screening', 'screenings', 'scripture', 'sculpture', 'sculptures', 'sea', 'seaport', 'search', 'searches', 'searching', 'season', 'seasonal', 'seasoned', 'seasons', 'seat', 'seats', 'seattle', 'second', 'secondary', 'sectarian', 'section', 'sector', 'sectors', 'secular', 'secure', 'secured', 'secures', 'securing', 'security', 'seed', 'seeds', 'seeing', 'seek', 'seeking', 'seeks', 'seen', 'sees', 'segments', 'select', 'selected', 'selection', 'self', 'sell', 'selling', 'seminar', 'seminaries', 'seminars', 'seminary', 'seminole', 'semitism', 'send', 'sending', 'sends', 'senior', 'seniors', 'sense', 'senses', 'sensitive', 'sensitivity', 'sensory', 'sent', 'separate', 'separately', 'separation', 'september', 'series', 'seriously', 'sermons', 'servant', 'servants', 'serve', 'served', 'serves', 'service', 'servicehuman', 'services', 'servicesbuilding', 'serviceshuman', 'servicesproviding', 'servicing', 'serving', 'session', 'sessions', 'set', 'sets', 'setting', 'settings', 'settlement', 'seven', 'seventeen', 'seventh', 'severe', 'severely', 'sex', 'sexual', 'sexuality', 'sexually', 'shakespeare', 'shall', 'shalom', 'shape', 'shaped', 'shapes', 'shaping', 'share', 'shared', 'shares', 'sharing', 'shaw', 'shelby', 'shelf', 'shelter', 'shelteranimals', 'sheltercommunity', 'sheltered', 'sheltering', 'shelters', 'shelves', 'shepherd', 'sheriffs', 'shift', 'shine', 'shipments', 'shipped', 'ships', 'shoes', 'shooting', 'shop', 'shopping', 'shore', 'shores', 'short', 'showcase', 'showcases', 'showcasing', 'shower', 'showers', 'showing', 'shown', 'shows', 'shrubs', 'shut', 'sibling', 'siblings', 'sick', 'sides', 'sierra', 'sight', 'sign', 'signal', 'signature', 'significance', 'significant', 'significantly', 'signs', 'silence', 'silicon', 'silver', 'similar', 'simple', 'simply', 'simultaneously', 'singers', 'single', 'singular', 'sioux', 'sister', 'sisters', 'site', 'sites', 'situated', 'situation', 'situational', 'situations', 'sixteen', 'sixth', 'size', 'sized', 'skid', 'skiing', 'skill', 'skilled', 'skills', 'skin', 'sky', 'slaughter', 'slavery', 'sleep', 'sliding', 'slow', 'small', 'smaller', 'smart', 'smarter', 'smile', 'smiles', 'smith', 'smithsonian', 'smoking', 'smoky', 'snacks', 'snap', 'snohomish', 'snow', 'soccer', 'social', 'socialization', 'socially', 'societal', 'societies', 'society', 'societyhuman', 'societyresearch', 'socio', 'socioeconomic', 'software', 'soil', 'solar', 'sold', 'soldiers', 'sole', 'solely', 'solicit', 'soliciting', 'solicits', 'solid', 'solidarity', 'soloists', 'solution', 'solutions', 'solve', 'solvers', 'solving', 'somerset', 'somethinghuman', 'son', 'sonoma', 'soon', 'sophisticated', 'sort', 'sos', 'sought', 'soul', 'souls', 'sound', 'soup', 'source', 'sources', 'south', 'southeast', 'southeastern', 'southern', 'southwest', 'southwestern', 'sovereignty', 'soviet', 'space', 'spaces', 'spain', 'span', 'spanish', 'spanning', 'spans', 'spark', 'sparks', 'spartanburg', 'spay', 'spaying', 'spca', 'speak', 'speaker', 'speakers', 'speaking', 'speaks', 'spearheaded', 'spearheads', 'special', 'specialist', 'specialists', 'specialize', 'specialized', 'specializes', 'specializing', 'specially', 'specialties', 'specialty', 'species', 'specific', 'specifically', 'specimens', 'spectacular', 'spectrum', 'speech', 'spend', 'spending', 'spent', 'sphere', 'spheres', 'spina', 'spinal', 'spirit', 'spiritarts', 'spirited', 'spirits', 'spiritual', 'spirituality', 'spiritually', 'spokane', 'spoken', 'sponsor', 'sponsored', 'sponsoring', 'sponsors', 'sponsorship', 'sport', 'sporting', 'sports', 'sportsmanship', 'spouses', 'spread', 'spreading', 'spreads', 'spring', 'springfield', 'springs', 'square', 'sr', 'sri', 'st', 'stability', 'stabilize', 'stabilizing', 'stable', 'staff', 'staffed', 'stage', 'staged', 'stages', 'staggering', 'stakeholders', 'stamford', 'stamps', 'stand', 'standard', 'standards', 'standing', 'stands', 'star', 'stars', 'start', 'started', 'starting', 'starts', 'state', 'stated', 'statement', 'states', 'stateshuman', 'statewide', 'station', 'stationarts', 'stations', 'statistics', 'stature', 'status', 'stay', 'staying', 'stays', 'steadfast', 'steadily', 'steady', 'stem', 'step', 'stephen', 'steps', 'sterilization', 'steward', 'stewards', 'stewardship', 'stewart', 'stigma', 'stimulate', 'stimulates', 'stimulating', 'stock', 'stone', 'stop', 'stopping', 'stops', 'store', 'stores', 'stories', 'story', 'storytelling', 'straight', 'stranger', 'strategic', 'strategically', 'strategies', 'strategy', 'stray', 'streaming', 'streams', 'street', 'streets', 'strength', 'strengthen', 'strengthened', 'strengthening', 'strengthens', 'strengths', 'stress', 'stresses', 'stretching', 'stricken', 'strides', 'strikes', 'strip', 'strive', 'strived', 'strives', 'striving', 'stroke', 'strong', 'stronger', 'stronghuman', 'strongly', 'structural', 'structure', 'structured', 'structures', 'struggle', 'struggles', 'struggling', 'student', 'students', 'studentseducation', 'studies', 'studio', 'studios', 'study', 'studying', 'stunning', 'style', 'styles', 'sub', 'subject', 'subjects', 'subscribers', 'subscription', 'subsidies', 'subsidized', 'substance', 'substandard', 'substantial', 'suburban', 'succeed', 'succeededucation', 'succeedhuman', 'succeeding', 'succeeds', 'success', 'successeducation', 'successes', 'successful', 'successfully', 'successhuman', 'sudan', 'suffer', 'suffered', 'suffering', 'sufficiency', 'sufficiencyhuman', 'sufficient', 'suffolk', 'suicide', 'suitable', 'sullivan', 'summer', 'summit', 'sun', 'suncoast', 'sunday', 'sunshine', 'superb', 'superior', 'supervise', 'supervised', 'supervision', 'supplement', 'supplemental', 'supplements', 'supplies', 'supply', 'supplying', 'support', 'supported', 'supporter', 'supporters', 'supporthealth', 'supporthuman', 'supporting', 'supportive', 'supports', 'supreme', 'sure', 'surgeons', 'surgeries', 'surgery', 'surgical', 'surplus', 'surrender', 'surrendered', 'surround', 'surrounded', 'surrounding', 'survey', 'survival', 'survive', 'survived', 'surviving', 'survivor', 'survivors', 'survivorship', 'susan', 'sustain', 'sustainability', 'sustainable', 'sustainably', 'sustained', 'sustaining', 'sustains', 'sweat', 'swim', 'swimmable', 'swimming', 'symbol', 'symphonic', 'symphony', 'symposia', 'symptoms', 'synagogue', 'synagogues', 'syndicated', 'syndrome', 'syracuse', 'systematic', 'systemic', 'systems', 'table', 'tackle', 'tackles', 'tackling', 'tacoma', 'tactics', 'tailored', 'taken', 'takes', 'taking', 'talent', 'talented', 'talents', 'talk', 'talks', 'tampa', 'tangible', 'tank', 'tanzania', 'tap', 'tapes', 'target', 'targeted', 'targeting', 'targets', 'tarrant', 'task', 'tasks', 'taste', 'taught', 'tax', 'taxes', 'taxpayers', 'taylor', 'tbn', 'teach', 'teacher', 'teachers', 'teaches', 'teaching', 'teachings', 'team', 'teams', 'teamwork', 'tech', 'technical', 'technicians', 'techniques', 'technological', 'technologies', 'technology', 'ted', 'tee', 'teen', 'teenage', 'teenagers', 'teens', 'telecommunications', 'telephone', 'television', 'tell', 'tells', 'temperament', 'temple', 'temporarily', 'temporary', 'tenant', 'tennessee', 'tennis', 'tens', 'term', 'terminally', 'terms', 'territories', 'territory', 'terrorism', 'test', 'testament', 'tested', 'testing', 'tests', 'teton', 'texans', 'texas', 'text', 'thailand', 'thanks', 'theater', 'theaterarts', 'theaters', 'theatre', 'theatrearts', 'theatres', 'theatrical', 'theme', 'themed', 'themes', 'themselveshuman', 'theological', 'theology', 'theory', 'therapeutic', 'therapies', 'therapists', 'therapy', 'thing', 'things', 'think', 'thinkers', 'thinking', 'thirteen', 'thirty', 'thomas', 'thorough', 'thought', 'thoughtful', 'thousand', 'thousands', 'threat', 'threaten', 'threatened', 'threatening', 'threats', 'thrift', 'thrive', 'thrivehuman', 'thrives', 'thriving', 'thrust', 'ticket', 'tickets', 'tie', 'tier', 'ties', 'tigers', 'tikkun', 'time', 'timearts', 'timecommunity', 'timeeducation', 'timehealth', 'timehuman', 'timeinternational', 'timeless', 'timely', 'timereligion', 'times', 'tirelessly', 'tissue', 'title', 'tlc', 'tobacco', 'today', 'toddler', 'toddlers', 'togetheranimals', 'togetherarts', 'togethercommunity', 'togetherenvironment', 'togetherhuman', 'told', 'toledo', 'tolerance', 'toll', 'tomorrow', 'tomorrowhealth', 'tomorrowhuman', 'tomorrows', 'tons', 'tony', 'tool', 'tools', 'topics', 'torah', 'torture', 'total', 'totaling', 'touch', 'touched', 'touches', 'touching', 'tough', 'toughest', 'tour', 'toured', 'touring', 'tourism', 'tourist', 'tours', 'town', 'towns', 'township', 'toxic', 'toy', 'toys', 'trace', 'traces', 'tracing', 'track', 'tracts', 'trade', 'tradition', 'traditional', 'traditionally', 'traditions', 'traffic', 'trafficking', 'tragedy', 'trail', 'trails', 'train', 'trained', 'training', 'trainings', 'trains', 'trajectory', 'trans', 'transatlantic', 'transfer', 'transferred', 'transform', 'transformation', 'transformational', 'transformative', 'transformed', 'transforming', 'transforms', 'transgender', 'transient', 'transition', 'transitional', 'transitioning', 'translate', 'translated', 'translating', 'translation', 'translational', 'translators', 'transmission', 'transparency', 'transparent', 'transplant', 'transplants', 'transport', 'transportation', 'trap', 'trauma', 'traumatic', 'traumatized', 'travel', 'traveling', 'treasure', 'treasured', 'treasures', 'treat', 'treatable', 'treated', 'treating', 'treatment', 'treatments', 'treats', 'tree', 'trees', 'tremendous', 'trend', 'trends', 'trenton', 'tri', 'trial', 'trials', 'triangle', 'tribal', 'tribes', 'tributaries', 'trinity', 'trip', 'trips', 'troop', 'troops', 'tropical', 'troubled', 'truck', 'trucks', 'true', 'truly', 'trust', 'trusted', 'trustees', 'trusting', 'trustworthy', 'truth', 'truths', 'try', 'trying', 'tuberculosis', 'tucson', 'tuition', 'tulsa', 'tumor', 'tumors', 'turn', 'turned', 'turning', 'turns', 'turtle', 'tutoring', 'tv', 'twelfth', 'twice', 'twin', 'twofold', 'tx', 'type', 'types', 'typical', 'typically', 'tzedakah', 'ucla', 'uganda', 'ukraine', 'ultimate', 'ultimately', 'umbrella', 'unable', 'unbiased', 'unborn', 'uncommon', 'uncompromising', 'unconditional', 'underemployed', 'underfunded', 'undergoing', 'undergraduate', 'underinsured', 'underlying', 'underprivileged', 'underrepresented', 'underserved', 'understand', 'understandable', 'understanding', 'understands', 'understood', 'undertake', 'undertaken', 'undertaking', 'unduplicated', 'unemployed', 'unemployment', 'unexpected', 'unfortunately', 'unhealthy', 'unified', 'unifying', 'uninsured', 'union', 'unions', 'unique', 'uniquely', 'unit', 'unite', 'united', 'unitedcommunity', 'unitedlive', 'unites', 'uniting', 'units', 'unity', 'universal', 'universally', 'universe', 'universities', 'university', 'unknown', 'unleash', 'unlike', 'unlimited', 'unlock', 'unlocks', 'unmatched', 'unmet', 'unparalleled', 'unplanned', 'unprecedented', 'unreached', 'unsurpassed', 'unusual', 'unwanted', 'unwavering', 'uphold', 'upholds', 'uplift', 'uplifting', 'upper', 'upstate', 'urban', 'urgency', 'urgent', 'urgently', 'urinary', 'usa', 'usda', 'use', 'used', 'useful', 'usefulness', 'users', 'uses', 'using', 'uso', 'usually', 'utah', 'utilities', 'utility', 'utilization', 'utilize', 'utilized', 'utilizes', 'utilizing', 'va', 'vacation', 'vaccine', 'vaccines', 'valley', 'valleyarts', 'valleys', 'valuable', 'value', 'valued', 'values', 'valueshuman', 'valuing', 'van', 'varied', 'variety', 'various', 'vary', 'vast', 've', 'vegas', 'vegetables', 'vehicle', 'vehicles', 'ventura', 'venture', 'ventures', 'venturing', 'venue', 'venues', 'vermont', 'vermonters', 'vernon', 'versatility', 'veteran', 'veterans', 'veteranshuman', 'veterinarians', 'veterinary', 'viability', 'viable', 'vibrancy', 'vibrant', 'victim', 'victimization', 'victimized', 'victims', 'victorian', 'victories', 'victory', 'video', 'videos', 'vietnam', 'view', 'viewers', 'viewing', 'views', 'village', 'villages', 'vincent', 'violations', 'violence', 'violencehuman', 'violent', 'virgin', 'virginia', 'virtually', 'virtues', 'visibility', 'visible', 'vision', 'visionary', 'visions', 'visit', 'visited', 'visiting', 'visitor', 'visitors', 'visits', 'visual', 'visually', 'vital', 'vitality', 'vocal', 'vocational', 'voice', 'voices', 'voluntary', 'volunteer', 'volunteering', 'volunteerism', 'volunteers', 'volusia', 'vote', 'voter', 'voters', 'vulnerable', 'wa', 'wage', 'wages', 'waiting', 'wake', 'walk', 'walker', 'walking', 'walks', 'wall', 'walls', 'want', 'wanted', 'wants', 'war', 'warehouse', 'warehouses', 'warm', 'warming', 'warmth', 'warren', 'warrior', 'warriors', 'washington', 'washtenaw', 'waste', 'watch', 'watchdog', 'water', 'waterfowl', 'waters', 'watersenvironment', 'watershed', 'watersheds', 'waterways', 'way', 'wayne', 'ways', 'wealth', 'weapons', 'web', 'website', 'websites', 'week', 'weekday', 'weekend', 'weekends', 'weekly', 'weeks', 'welcome', 'welcomed', 'welcomes', 'welcoming', 'welfare', 'wellbeing', 'wellness', 'wells', 'wellspring', 'went', 'west', 'westchester', 'western', 'wetlands', 'wheelchair', 'wheels', 'white', 'wholeness', 'wholesalers', 'wholesome', 'wi', 'wichita', 'wide', 'widely', 'wider', 'widespread', 'widest', 'widows', 'wife', 'wight', 'wild', 'wilderness', 'wildlands', 'wildlife', 'wildlifeanimals', 'william', 'williams', 'williamsburg', 'williamson', 'willing', 'willingness', 'wilson', 'win', 'window', 'wing', 'wings', 'winning', 'winston', 'winter', 'wisconsin', 'wisdom', 'wise', 'wisely', 'wish', 'wishes', 'wishhealth', 'witness', 'wolf', 'wolves', 'woman', 'women', 'womenhuman', 'won', 'wonder', 'wonderful', 'wonders', 'wood', 'wooded', 'woodlands', 'woods', 'worcester', 'word', 'words', 'work', 'workarts', 'worked', 'worker', 'workers', 'workforce', 'workhuman', 'working', 'workplace', 'workplaces', 'workproviding', 'works', 'workshop', 'workshops', 'workshuman', 'world', 'worldanimals', 'worldarts', 'worldcommunity', 'worldeducation', 'worldenvironment', 'worldhuman', 'worldinternational', 'worldpromoting', 'worldproviding', 'worldreligion', 'worldresearch', 'worlds', 'worldspreading', 'worldthe', 'worldview', 'worldwide', 'worldwidehuman', 'worldwideinternational', 'worldwidereligion', 'worship', 'worst', 'worth', 'worthwhile', 'worthy', 'wounded', 'wraparound', 'write', 'writers', 'writing', 'written', 'www', 'wyoming', 'yad', 'year', 'yearbuilding', 'yearlong', 'yearly', 'years', 'yearshare', 'yearshuman', 'yearwe', 'yellowstone', 'yes', 'yfc', 'yisrael', 'ymca', 'york', 'yorkers', 'young', 'younger', 'youngest', 'youngsters', 'youth', 'youtheducation', 'youthhuman', 'youths', 'ywca', 'zambia', 'zero', 'zimbabwe', 'zionist', 'zip', 'zone', 'zoo', 'zooanimals', 'zoological', 'zoos']\n"
     ]
    }
   ],
   "source": [
    "vectorizer = TfidfVectorizer(min_df=5, stop_words='english')\n",
    "X = vectorizer.fit_transform(df.corpus)\n",
    "print(X.shape)\n",
    "print(vectorizer.get_feature_names())\n"
   ]
  },
  {
   "cell_type": "markdown",
   "metadata": {},
   "source": [
    "# Build Model : Charity Only"
   ]
  },
  {
   "cell_type": "markdown",
   "metadata": {},
   "source": [
    "## Train and Test Sets"
   ]
  },
  {
   "cell_type": "code",
   "execution_count": 9,
   "metadata": {},
   "outputs": [],
   "source": [
    "seed = 1\n",
    "X_train, X_test, y_train, y_test = train_test_split(df.text, df.target, test_size=0.20, random_state=seed)"
   ]
  },
  {
   "cell_type": "markdown",
   "metadata": {},
   "source": [
    "## Pipelines"
   ]
  },
  {
   "cell_type": "code",
   "execution_count": 10,
   "metadata": {},
   "outputs": [],
   "source": [
    "# convert to count,  word2vec, doc2vec\n",
    "\n",
    "pipe_mnb = Pipeline([\n",
    "    ('vect', CountVectorizer()),\n",
    "    ('tfidf', TfidfTransformer()),\n",
    "    ('clf', MultinomialNB()),\n",
    "])\n",
    "\n",
    "pipe_svm = Pipeline([\n",
    "    ('vect', CountVectorizer()),\n",
    "    ('tfidf', TfidfTransformer()),\n",
    "    ('clf', svm.SVC(decision_function_shape='ovo', random_state=seed)),\n",
    "])\n",
    "\n",
    "\n",
    "pipe_sgd = Pipeline([\n",
    "    ('vect', CountVectorizer()),\n",
    "    ('tfidf', TfidfTransformer()),\n",
    "    ('clf', SGDClassifier(tol=None,random_state=seed)),\n",
    "])"
   ]
  },
  {
   "cell_type": "markdown",
   "metadata": {},
   "source": [
    "## Grid Search Parameters"
   ]
  },
  {
   "cell_type": "code",
   "execution_count": 12,
   "metadata": {},
   "outputs": [],
   "source": [
    "# Set grid search params\n",
    "param_range = [1, 2, 3, 4, 5, 6, 7, 8, 9, 10]\n",
    "\n",
    "grid_params_mnb = [{\n",
    "    'vect__ngram_range': [(1, 1), (1, 2)],\n",
    "    'tfidf__use_idf': (True, False),\n",
    "    'clf__fit_prior': (True, False),\n",
    "}] \n",
    "\n",
    "\n",
    "#grid_params_svm = [{\n",
    "#    'vect__ngram_range': [(1, 1), (1, 2)],\n",
    "#    'tfidf__use_idf': (True, False),\n",
    "#    'clf__kernel': ['linear', 'rbf', 'poly'], \n",
    "#    'clf__C': param_range,\n",
    "#}]\n",
    "\n",
    "grid_params_sgd = [{\n",
    "    'vect__ngram_range': [(1, 1), (1, 2)],\n",
    "    'tfidf__use_idf': (True, False),\n",
    "    'clf__penalty': ['l1', 'l2','elasticnet'],\n",
    "    'clf__loss' : ('hinge', 'squared_hinge'),\n",
    "    'clf__alpha': (1e-2, 1e-3),\n",
    "}]"
   ]
  },
  {
   "cell_type": "markdown",
   "metadata": {
    "toc-hr-collapsed": false
   },
   "source": [
    "## Grid Search"
   ]
  },
  {
   "cell_type": "code",
   "execution_count": 14,
   "metadata": {},
   "outputs": [],
   "source": [
    "# Construct grid searches\n",
    "jobs = -1\n",
    "\n",
    "gs_mnb = GridSearchCV(\n",
    "    estimator=pipe_mnb,\n",
    "    param_grid=grid_params_mnb,\n",
    "    scoring='accuracy',\n",
    "    cv=10) \n",
    "\n",
    "gs_svm = GridSearchCV(\n",
    "    estimator=pipe_svm,\n",
    "    param_grid=grid_params_svm,\n",
    "    scoring='accuracy',\n",
    "    cv=10)\n",
    "\n",
    "\n",
    "gs_sgd = GridSearchCV(\n",
    "    estimator=pipe_sgd,\n",
    "    param_grid=grid_params_sgd,\n",
    "    scoring='accuracy',\n",
    "    cv=10, \n",
    "    n_jobs=jobs)\n",
    "\n",
    "\n",
    "# List of pipelines for ease of iteration\n",
    "grids = [gs_mnb, gs_svm, gs_sgd]\n",
    "\n",
    "# Dictionary of pipelines and classifier types for ease of reference\n",
    "grid_dict = {0: 'Multinomial Naive Bayes', 1: 'Support Vector Machine', \n",
    "             2: 'Stocastic Gradient Descent'}"
   ]
  },
  {
   "cell_type": "markdown",
   "metadata": {},
   "source": [
    "# Evaluate Performance"
   ]
  },
  {
   "cell_type": "code",
   "execution_count": 15,
   "metadata": {},
   "outputs": [
    {
     "name": "stdout",
     "output_type": "stream",
     "text": [
      "Performing model optimizations...\n",
      "\n",
      "Estimator: Multinomial Naive Bayes\n",
      "Best params: {'clf__fit_prior': False, 'tfidf__use_idf': True, 'vect__ngram_range': (1, 1)}\n",
      "Best training accuracy: 0.560\n",
      "Test set accuracy score for best params: 0.560 \n",
      "\n",
      "Estimator: Support Vector Machine\n"
     ]
    },
    {
     "name": "stderr",
     "output_type": "stream",
     "text": [
      "/Users/stewarta/repos/charity-filter-evaluation/char-env/lib/python3.7/site-packages/sklearn/svm/base.py:196: FutureWarning: The default value of gamma will change from 'auto' to 'scale' in version 0.22 to account better for unscaled features. Set gamma explicitly to 'auto' or 'scale' to avoid this warning.\n",
      "  \"avoid this warning.\", FutureWarning)\n"
     ]
    },
    {
     "ename": "KeyboardInterrupt",
     "evalue": "",
     "output_type": "error",
     "traceback": [
      "\u001b[0;31m---------------------------------------------------------------------------\u001b[0m",
      "\u001b[0;31mKeyboardInterrupt\u001b[0m                         Traceback (most recent call last)",
      "\u001b[0;32m<ipython-input-15-fdff229feb99>\u001b[0m in \u001b[0;36m<module>\u001b[0;34m\u001b[0m\n\u001b[1;32m      7\u001b[0m     \u001b[0mprint\u001b[0m\u001b[0;34m(\u001b[0m\u001b[0;34m'\\nEstimator: %s'\u001b[0m \u001b[0;34m%\u001b[0m \u001b[0mgrid_dict\u001b[0m\u001b[0;34m[\u001b[0m\u001b[0midx\u001b[0m\u001b[0;34m]\u001b[0m\u001b[0;34m)\u001b[0m\u001b[0;34m\u001b[0m\u001b[0;34m\u001b[0m\u001b[0m\n\u001b[1;32m      8\u001b[0m     \u001b[0;31m# Fit grid search\u001b[0m\u001b[0;34m\u001b[0m\u001b[0;34m\u001b[0m\u001b[0;34m\u001b[0m\u001b[0m\n\u001b[0;32m----> 9\u001b[0;31m     \u001b[0mgs\u001b[0m\u001b[0;34m.\u001b[0m\u001b[0mfit\u001b[0m\u001b[0;34m(\u001b[0m\u001b[0mX_train\u001b[0m\u001b[0;34m,\u001b[0m \u001b[0my_train\u001b[0m\u001b[0;34m)\u001b[0m\u001b[0;34m\u001b[0m\u001b[0;34m\u001b[0m\u001b[0m\n\u001b[0m\u001b[1;32m     10\u001b[0m     \u001b[0;31m# Best params\u001b[0m\u001b[0;34m\u001b[0m\u001b[0;34m\u001b[0m\u001b[0;34m\u001b[0m\u001b[0m\n\u001b[1;32m     11\u001b[0m     \u001b[0mprint\u001b[0m\u001b[0;34m(\u001b[0m\u001b[0;34m'Best params: %s'\u001b[0m \u001b[0;34m%\u001b[0m \u001b[0mgs\u001b[0m\u001b[0;34m.\u001b[0m\u001b[0mbest_params_\u001b[0m\u001b[0;34m)\u001b[0m\u001b[0;34m\u001b[0m\u001b[0;34m\u001b[0m\u001b[0m\n",
      "\u001b[0;32m~/repos/charity-filter-evaluation/char-env/lib/python3.7/site-packages/sklearn/model_selection/_search.py\u001b[0m in \u001b[0;36mfit\u001b[0;34m(self, X, y, groups, **fit_params)\u001b[0m\n\u001b[1;32m    720\u001b[0m                 \u001b[0;32mreturn\u001b[0m \u001b[0mresults_container\u001b[0m\u001b[0;34m[\u001b[0m\u001b[0;36m0\u001b[0m\u001b[0;34m]\u001b[0m\u001b[0;34m\u001b[0m\u001b[0;34m\u001b[0m\u001b[0m\n\u001b[1;32m    721\u001b[0m \u001b[0;34m\u001b[0m\u001b[0m\n\u001b[0;32m--> 722\u001b[0;31m             \u001b[0mself\u001b[0m\u001b[0;34m.\u001b[0m\u001b[0m_run_search\u001b[0m\u001b[0;34m(\u001b[0m\u001b[0mevaluate_candidates\u001b[0m\u001b[0;34m)\u001b[0m\u001b[0;34m\u001b[0m\u001b[0;34m\u001b[0m\u001b[0m\n\u001b[0m\u001b[1;32m    723\u001b[0m \u001b[0;34m\u001b[0m\u001b[0m\n\u001b[1;32m    724\u001b[0m         \u001b[0mresults\u001b[0m \u001b[0;34m=\u001b[0m \u001b[0mresults_container\u001b[0m\u001b[0;34m[\u001b[0m\u001b[0;36m0\u001b[0m\u001b[0;34m]\u001b[0m\u001b[0;34m\u001b[0m\u001b[0;34m\u001b[0m\u001b[0m\n",
      "\u001b[0;32m~/repos/charity-filter-evaluation/char-env/lib/python3.7/site-packages/sklearn/model_selection/_search.py\u001b[0m in \u001b[0;36m_run_search\u001b[0;34m(self, evaluate_candidates)\u001b[0m\n\u001b[1;32m   1189\u001b[0m     \u001b[0;32mdef\u001b[0m \u001b[0m_run_search\u001b[0m\u001b[0;34m(\u001b[0m\u001b[0mself\u001b[0m\u001b[0;34m,\u001b[0m \u001b[0mevaluate_candidates\u001b[0m\u001b[0;34m)\u001b[0m\u001b[0;34m:\u001b[0m\u001b[0;34m\u001b[0m\u001b[0;34m\u001b[0m\u001b[0m\n\u001b[1;32m   1190\u001b[0m         \u001b[0;34m\"\"\"Search all candidates in param_grid\"\"\"\u001b[0m\u001b[0;34m\u001b[0m\u001b[0;34m\u001b[0m\u001b[0m\n\u001b[0;32m-> 1191\u001b[0;31m         \u001b[0mevaluate_candidates\u001b[0m\u001b[0;34m(\u001b[0m\u001b[0mParameterGrid\u001b[0m\u001b[0;34m(\u001b[0m\u001b[0mself\u001b[0m\u001b[0;34m.\u001b[0m\u001b[0mparam_grid\u001b[0m\u001b[0;34m)\u001b[0m\u001b[0;34m)\u001b[0m\u001b[0;34m\u001b[0m\u001b[0;34m\u001b[0m\u001b[0m\n\u001b[0m\u001b[1;32m   1192\u001b[0m \u001b[0;34m\u001b[0m\u001b[0m\n\u001b[1;32m   1193\u001b[0m \u001b[0;34m\u001b[0m\u001b[0m\n",
      "\u001b[0;32m~/repos/charity-filter-evaluation/char-env/lib/python3.7/site-packages/sklearn/model_selection/_search.py\u001b[0m in \u001b[0;36mevaluate_candidates\u001b[0;34m(candidate_params)\u001b[0m\n\u001b[1;32m    709\u001b[0m                                \u001b[0;32mfor\u001b[0m \u001b[0mparameters\u001b[0m\u001b[0;34m,\u001b[0m \u001b[0;34m(\u001b[0m\u001b[0mtrain\u001b[0m\u001b[0;34m,\u001b[0m \u001b[0mtest\u001b[0m\u001b[0;34m)\u001b[0m\u001b[0;34m\u001b[0m\u001b[0;34m\u001b[0m\u001b[0m\n\u001b[1;32m    710\u001b[0m                                in product(candidate_params,\n\u001b[0;32m--> 711\u001b[0;31m                                           cv.split(X, y, groups)))\n\u001b[0m\u001b[1;32m    712\u001b[0m \u001b[0;34m\u001b[0m\u001b[0m\n\u001b[1;32m    713\u001b[0m                 \u001b[0mall_candidate_params\u001b[0m\u001b[0;34m.\u001b[0m\u001b[0mextend\u001b[0m\u001b[0;34m(\u001b[0m\u001b[0mcandidate_params\u001b[0m\u001b[0;34m)\u001b[0m\u001b[0;34m\u001b[0m\u001b[0;34m\u001b[0m\u001b[0m\n",
      "\u001b[0;32m~/repos/charity-filter-evaluation/char-env/lib/python3.7/site-packages/sklearn/externals/joblib/parallel.py\u001b[0m in \u001b[0;36m__call__\u001b[0;34m(self, iterable)\u001b[0m\n\u001b[1;32m    918\u001b[0m                 \u001b[0mself\u001b[0m\u001b[0;34m.\u001b[0m\u001b[0m_iterating\u001b[0m \u001b[0;34m=\u001b[0m \u001b[0mself\u001b[0m\u001b[0;34m.\u001b[0m\u001b[0m_original_iterator\u001b[0m \u001b[0;32mis\u001b[0m \u001b[0;32mnot\u001b[0m \u001b[0;32mNone\u001b[0m\u001b[0;34m\u001b[0m\u001b[0;34m\u001b[0m\u001b[0m\n\u001b[1;32m    919\u001b[0m \u001b[0;34m\u001b[0m\u001b[0m\n\u001b[0;32m--> 920\u001b[0;31m             \u001b[0;32mwhile\u001b[0m \u001b[0mself\u001b[0m\u001b[0;34m.\u001b[0m\u001b[0mdispatch_one_batch\u001b[0m\u001b[0;34m(\u001b[0m\u001b[0miterator\u001b[0m\u001b[0;34m)\u001b[0m\u001b[0;34m:\u001b[0m\u001b[0;34m\u001b[0m\u001b[0;34m\u001b[0m\u001b[0m\n\u001b[0m\u001b[1;32m    921\u001b[0m                 \u001b[0;32mpass\u001b[0m\u001b[0;34m\u001b[0m\u001b[0;34m\u001b[0m\u001b[0m\n\u001b[1;32m    922\u001b[0m \u001b[0;34m\u001b[0m\u001b[0m\n",
      "\u001b[0;32m~/repos/charity-filter-evaluation/char-env/lib/python3.7/site-packages/sklearn/externals/joblib/parallel.py\u001b[0m in \u001b[0;36mdispatch_one_batch\u001b[0;34m(self, iterator)\u001b[0m\n\u001b[1;32m    757\u001b[0m                 \u001b[0;32mreturn\u001b[0m \u001b[0;32mFalse\u001b[0m\u001b[0;34m\u001b[0m\u001b[0;34m\u001b[0m\u001b[0m\n\u001b[1;32m    758\u001b[0m             \u001b[0;32melse\u001b[0m\u001b[0;34m:\u001b[0m\u001b[0;34m\u001b[0m\u001b[0;34m\u001b[0m\u001b[0m\n\u001b[0;32m--> 759\u001b[0;31m                 \u001b[0mself\u001b[0m\u001b[0;34m.\u001b[0m\u001b[0m_dispatch\u001b[0m\u001b[0;34m(\u001b[0m\u001b[0mtasks\u001b[0m\u001b[0;34m)\u001b[0m\u001b[0;34m\u001b[0m\u001b[0;34m\u001b[0m\u001b[0m\n\u001b[0m\u001b[1;32m    760\u001b[0m                 \u001b[0;32mreturn\u001b[0m \u001b[0;32mTrue\u001b[0m\u001b[0;34m\u001b[0m\u001b[0;34m\u001b[0m\u001b[0m\n\u001b[1;32m    761\u001b[0m \u001b[0;34m\u001b[0m\u001b[0m\n",
      "\u001b[0;32m~/repos/charity-filter-evaluation/char-env/lib/python3.7/site-packages/sklearn/externals/joblib/parallel.py\u001b[0m in \u001b[0;36m_dispatch\u001b[0;34m(self, batch)\u001b[0m\n\u001b[1;32m    714\u001b[0m         \u001b[0;32mwith\u001b[0m \u001b[0mself\u001b[0m\u001b[0;34m.\u001b[0m\u001b[0m_lock\u001b[0m\u001b[0;34m:\u001b[0m\u001b[0;34m\u001b[0m\u001b[0;34m\u001b[0m\u001b[0m\n\u001b[1;32m    715\u001b[0m             \u001b[0mjob_idx\u001b[0m \u001b[0;34m=\u001b[0m \u001b[0mlen\u001b[0m\u001b[0;34m(\u001b[0m\u001b[0mself\u001b[0m\u001b[0;34m.\u001b[0m\u001b[0m_jobs\u001b[0m\u001b[0;34m)\u001b[0m\u001b[0;34m\u001b[0m\u001b[0;34m\u001b[0m\u001b[0m\n\u001b[0;32m--> 716\u001b[0;31m             \u001b[0mjob\u001b[0m \u001b[0;34m=\u001b[0m \u001b[0mself\u001b[0m\u001b[0;34m.\u001b[0m\u001b[0m_backend\u001b[0m\u001b[0;34m.\u001b[0m\u001b[0mapply_async\u001b[0m\u001b[0;34m(\u001b[0m\u001b[0mbatch\u001b[0m\u001b[0;34m,\u001b[0m \u001b[0mcallback\u001b[0m\u001b[0;34m=\u001b[0m\u001b[0mcb\u001b[0m\u001b[0;34m)\u001b[0m\u001b[0;34m\u001b[0m\u001b[0;34m\u001b[0m\u001b[0m\n\u001b[0m\u001b[1;32m    717\u001b[0m             \u001b[0;31m# A job can complete so quickly than its callback is\u001b[0m\u001b[0;34m\u001b[0m\u001b[0;34m\u001b[0m\u001b[0;34m\u001b[0m\u001b[0m\n\u001b[1;32m    718\u001b[0m             \u001b[0;31m# called before we get here, causing self._jobs to\u001b[0m\u001b[0;34m\u001b[0m\u001b[0;34m\u001b[0m\u001b[0;34m\u001b[0m\u001b[0m\n",
      "\u001b[0;32m~/repos/charity-filter-evaluation/char-env/lib/python3.7/site-packages/sklearn/externals/joblib/_parallel_backends.py\u001b[0m in \u001b[0;36mapply_async\u001b[0;34m(self, func, callback)\u001b[0m\n\u001b[1;32m    180\u001b[0m     \u001b[0;32mdef\u001b[0m \u001b[0mapply_async\u001b[0m\u001b[0;34m(\u001b[0m\u001b[0mself\u001b[0m\u001b[0;34m,\u001b[0m \u001b[0mfunc\u001b[0m\u001b[0;34m,\u001b[0m \u001b[0mcallback\u001b[0m\u001b[0;34m=\u001b[0m\u001b[0;32mNone\u001b[0m\u001b[0;34m)\u001b[0m\u001b[0;34m:\u001b[0m\u001b[0;34m\u001b[0m\u001b[0;34m\u001b[0m\u001b[0m\n\u001b[1;32m    181\u001b[0m         \u001b[0;34m\"\"\"Schedule a func to be run\"\"\"\u001b[0m\u001b[0;34m\u001b[0m\u001b[0;34m\u001b[0m\u001b[0m\n\u001b[0;32m--> 182\u001b[0;31m         \u001b[0mresult\u001b[0m \u001b[0;34m=\u001b[0m \u001b[0mImmediateResult\u001b[0m\u001b[0;34m(\u001b[0m\u001b[0mfunc\u001b[0m\u001b[0;34m)\u001b[0m\u001b[0;34m\u001b[0m\u001b[0;34m\u001b[0m\u001b[0m\n\u001b[0m\u001b[1;32m    183\u001b[0m         \u001b[0;32mif\u001b[0m \u001b[0mcallback\u001b[0m\u001b[0;34m:\u001b[0m\u001b[0;34m\u001b[0m\u001b[0;34m\u001b[0m\u001b[0m\n\u001b[1;32m    184\u001b[0m             \u001b[0mcallback\u001b[0m\u001b[0;34m(\u001b[0m\u001b[0mresult\u001b[0m\u001b[0;34m)\u001b[0m\u001b[0;34m\u001b[0m\u001b[0;34m\u001b[0m\u001b[0m\n",
      "\u001b[0;32m~/repos/charity-filter-evaluation/char-env/lib/python3.7/site-packages/sklearn/externals/joblib/_parallel_backends.py\u001b[0m in \u001b[0;36m__init__\u001b[0;34m(self, batch)\u001b[0m\n\u001b[1;32m    547\u001b[0m         \u001b[0;31m# Don't delay the application, to avoid keeping the input\u001b[0m\u001b[0;34m\u001b[0m\u001b[0;34m\u001b[0m\u001b[0;34m\u001b[0m\u001b[0m\n\u001b[1;32m    548\u001b[0m         \u001b[0;31m# arguments in memory\u001b[0m\u001b[0;34m\u001b[0m\u001b[0;34m\u001b[0m\u001b[0;34m\u001b[0m\u001b[0m\n\u001b[0;32m--> 549\u001b[0;31m         \u001b[0mself\u001b[0m\u001b[0;34m.\u001b[0m\u001b[0mresults\u001b[0m \u001b[0;34m=\u001b[0m \u001b[0mbatch\u001b[0m\u001b[0;34m(\u001b[0m\u001b[0;34m)\u001b[0m\u001b[0;34m\u001b[0m\u001b[0;34m\u001b[0m\u001b[0m\n\u001b[0m\u001b[1;32m    550\u001b[0m \u001b[0;34m\u001b[0m\u001b[0m\n\u001b[1;32m    551\u001b[0m     \u001b[0;32mdef\u001b[0m \u001b[0mget\u001b[0m\u001b[0;34m(\u001b[0m\u001b[0mself\u001b[0m\u001b[0;34m)\u001b[0m\u001b[0;34m:\u001b[0m\u001b[0;34m\u001b[0m\u001b[0;34m\u001b[0m\u001b[0m\n",
      "\u001b[0;32m~/repos/charity-filter-evaluation/char-env/lib/python3.7/site-packages/sklearn/externals/joblib/parallel.py\u001b[0m in \u001b[0;36m__call__\u001b[0;34m(self)\u001b[0m\n\u001b[1;32m    223\u001b[0m         \u001b[0;32mwith\u001b[0m \u001b[0mparallel_backend\u001b[0m\u001b[0;34m(\u001b[0m\u001b[0mself\u001b[0m\u001b[0;34m.\u001b[0m\u001b[0m_backend\u001b[0m\u001b[0;34m,\u001b[0m \u001b[0mn_jobs\u001b[0m\u001b[0;34m=\u001b[0m\u001b[0mself\u001b[0m\u001b[0;34m.\u001b[0m\u001b[0m_n_jobs\u001b[0m\u001b[0;34m)\u001b[0m\u001b[0;34m:\u001b[0m\u001b[0;34m\u001b[0m\u001b[0;34m\u001b[0m\u001b[0m\n\u001b[1;32m    224\u001b[0m             return [func(*args, **kwargs)\n\u001b[0;32m--> 225\u001b[0;31m                     for func, args, kwargs in self.items]\n\u001b[0m\u001b[1;32m    226\u001b[0m \u001b[0;34m\u001b[0m\u001b[0m\n\u001b[1;32m    227\u001b[0m     \u001b[0;32mdef\u001b[0m \u001b[0m__len__\u001b[0m\u001b[0;34m(\u001b[0m\u001b[0mself\u001b[0m\u001b[0;34m)\u001b[0m\u001b[0;34m:\u001b[0m\u001b[0;34m\u001b[0m\u001b[0;34m\u001b[0m\u001b[0m\n",
      "\u001b[0;32m~/repos/charity-filter-evaluation/char-env/lib/python3.7/site-packages/sklearn/externals/joblib/parallel.py\u001b[0m in \u001b[0;36m<listcomp>\u001b[0;34m(.0)\u001b[0m\n\u001b[1;32m    223\u001b[0m         \u001b[0;32mwith\u001b[0m \u001b[0mparallel_backend\u001b[0m\u001b[0;34m(\u001b[0m\u001b[0mself\u001b[0m\u001b[0;34m.\u001b[0m\u001b[0m_backend\u001b[0m\u001b[0;34m,\u001b[0m \u001b[0mn_jobs\u001b[0m\u001b[0;34m=\u001b[0m\u001b[0mself\u001b[0m\u001b[0;34m.\u001b[0m\u001b[0m_n_jobs\u001b[0m\u001b[0;34m)\u001b[0m\u001b[0;34m:\u001b[0m\u001b[0;34m\u001b[0m\u001b[0;34m\u001b[0m\u001b[0m\n\u001b[1;32m    224\u001b[0m             return [func(*args, **kwargs)\n\u001b[0;32m--> 225\u001b[0;31m                     for func, args, kwargs in self.items]\n\u001b[0m\u001b[1;32m    226\u001b[0m \u001b[0;34m\u001b[0m\u001b[0m\n\u001b[1;32m    227\u001b[0m     \u001b[0;32mdef\u001b[0m \u001b[0m__len__\u001b[0m\u001b[0;34m(\u001b[0m\u001b[0mself\u001b[0m\u001b[0;34m)\u001b[0m\u001b[0;34m:\u001b[0m\u001b[0;34m\u001b[0m\u001b[0;34m\u001b[0m\u001b[0m\n",
      "\u001b[0;32m~/repos/charity-filter-evaluation/char-env/lib/python3.7/site-packages/sklearn/model_selection/_validation.py\u001b[0m in \u001b[0;36m_fit_and_score\u001b[0;34m(estimator, X, y, scorer, train, test, verbose, parameters, fit_params, return_train_score, return_parameters, return_n_test_samples, return_times, return_estimator, error_score)\u001b[0m\n\u001b[1;32m    570\u001b[0m         \u001b[0;32mif\u001b[0m \u001b[0mreturn_train_score\u001b[0m\u001b[0;34m:\u001b[0m\u001b[0;34m\u001b[0m\u001b[0;34m\u001b[0m\u001b[0m\n\u001b[1;32m    571\u001b[0m             train_scores = _score(estimator, X_train, y_train, scorer,\n\u001b[0;32m--> 572\u001b[0;31m                                   is_multimetric)\n\u001b[0m\u001b[1;32m    573\u001b[0m \u001b[0;34m\u001b[0m\u001b[0m\n\u001b[1;32m    574\u001b[0m     \u001b[0;32mif\u001b[0m \u001b[0mverbose\u001b[0m \u001b[0;34m>\u001b[0m \u001b[0;36m2\u001b[0m\u001b[0;34m:\u001b[0m\u001b[0;34m\u001b[0m\u001b[0;34m\u001b[0m\u001b[0m\n",
      "\u001b[0;32m~/repos/charity-filter-evaluation/char-env/lib/python3.7/site-packages/sklearn/model_selection/_validation.py\u001b[0m in \u001b[0;36m_score\u001b[0;34m(estimator, X_test, y_test, scorer, is_multimetric)\u001b[0m\n\u001b[1;32m    603\u001b[0m     \"\"\"\n\u001b[1;32m    604\u001b[0m     \u001b[0;32mif\u001b[0m \u001b[0mis_multimetric\u001b[0m\u001b[0;34m:\u001b[0m\u001b[0;34m\u001b[0m\u001b[0;34m\u001b[0m\u001b[0m\n\u001b[0;32m--> 605\u001b[0;31m         \u001b[0;32mreturn\u001b[0m \u001b[0m_multimetric_score\u001b[0m\u001b[0;34m(\u001b[0m\u001b[0mestimator\u001b[0m\u001b[0;34m,\u001b[0m \u001b[0mX_test\u001b[0m\u001b[0;34m,\u001b[0m \u001b[0my_test\u001b[0m\u001b[0;34m,\u001b[0m \u001b[0mscorer\u001b[0m\u001b[0;34m)\u001b[0m\u001b[0;34m\u001b[0m\u001b[0;34m\u001b[0m\u001b[0m\n\u001b[0m\u001b[1;32m    606\u001b[0m     \u001b[0;32melse\u001b[0m\u001b[0;34m:\u001b[0m\u001b[0;34m\u001b[0m\u001b[0;34m\u001b[0m\u001b[0m\n\u001b[1;32m    607\u001b[0m         \u001b[0;32mif\u001b[0m \u001b[0my_test\u001b[0m \u001b[0;32mis\u001b[0m \u001b[0;32mNone\u001b[0m\u001b[0;34m:\u001b[0m\u001b[0;34m\u001b[0m\u001b[0;34m\u001b[0m\u001b[0m\n",
      "\u001b[0;32m~/repos/charity-filter-evaluation/char-env/lib/python3.7/site-packages/sklearn/model_selection/_validation.py\u001b[0m in \u001b[0;36m_multimetric_score\u001b[0;34m(estimator, X_test, y_test, scorers)\u001b[0m\n\u001b[1;32m    633\u001b[0m             \u001b[0mscore\u001b[0m \u001b[0;34m=\u001b[0m \u001b[0mscorer\u001b[0m\u001b[0;34m(\u001b[0m\u001b[0mestimator\u001b[0m\u001b[0;34m,\u001b[0m \u001b[0mX_test\u001b[0m\u001b[0;34m)\u001b[0m\u001b[0;34m\u001b[0m\u001b[0;34m\u001b[0m\u001b[0m\n\u001b[1;32m    634\u001b[0m         \u001b[0;32melse\u001b[0m\u001b[0;34m:\u001b[0m\u001b[0;34m\u001b[0m\u001b[0;34m\u001b[0m\u001b[0m\n\u001b[0;32m--> 635\u001b[0;31m             \u001b[0mscore\u001b[0m \u001b[0;34m=\u001b[0m \u001b[0mscorer\u001b[0m\u001b[0;34m(\u001b[0m\u001b[0mestimator\u001b[0m\u001b[0;34m,\u001b[0m \u001b[0mX_test\u001b[0m\u001b[0;34m,\u001b[0m \u001b[0my_test\u001b[0m\u001b[0;34m)\u001b[0m\u001b[0;34m\u001b[0m\u001b[0;34m\u001b[0m\u001b[0m\n\u001b[0m\u001b[1;32m    636\u001b[0m \u001b[0;34m\u001b[0m\u001b[0m\n\u001b[1;32m    637\u001b[0m         \u001b[0;32mif\u001b[0m \u001b[0mhasattr\u001b[0m\u001b[0;34m(\u001b[0m\u001b[0mscore\u001b[0m\u001b[0;34m,\u001b[0m \u001b[0;34m'item'\u001b[0m\u001b[0;34m)\u001b[0m\u001b[0;34m:\u001b[0m\u001b[0;34m\u001b[0m\u001b[0;34m\u001b[0m\u001b[0m\n",
      "\u001b[0;32m~/repos/charity-filter-evaluation/char-env/lib/python3.7/site-packages/sklearn/metrics/scorer.py\u001b[0m in \u001b[0;36m__call__\u001b[0;34m(self, estimator, X, y_true, sample_weight)\u001b[0m\n\u001b[1;32m     89\u001b[0m         \"\"\"\n\u001b[1;32m     90\u001b[0m \u001b[0;34m\u001b[0m\u001b[0m\n\u001b[0;32m---> 91\u001b[0;31m         \u001b[0my_pred\u001b[0m \u001b[0;34m=\u001b[0m \u001b[0mestimator\u001b[0m\u001b[0;34m.\u001b[0m\u001b[0mpredict\u001b[0m\u001b[0;34m(\u001b[0m\u001b[0mX\u001b[0m\u001b[0;34m)\u001b[0m\u001b[0;34m\u001b[0m\u001b[0;34m\u001b[0m\u001b[0m\n\u001b[0m\u001b[1;32m     92\u001b[0m         \u001b[0;32mif\u001b[0m \u001b[0msample_weight\u001b[0m \u001b[0;32mis\u001b[0m \u001b[0;32mnot\u001b[0m \u001b[0;32mNone\u001b[0m\u001b[0;34m:\u001b[0m\u001b[0;34m\u001b[0m\u001b[0;34m\u001b[0m\u001b[0m\n\u001b[1;32m     93\u001b[0m             return self._sign * self._score_func(y_true, y_pred,\n",
      "\u001b[0;32m~/repos/charity-filter-evaluation/char-env/lib/python3.7/site-packages/sklearn/utils/metaestimators.py\u001b[0m in \u001b[0;36m<lambda>\u001b[0;34m(*args, **kwargs)\u001b[0m\n\u001b[1;32m    116\u001b[0m \u001b[0;34m\u001b[0m\u001b[0m\n\u001b[1;32m    117\u001b[0m         \u001b[0;31m# lambda, but not partial, allows help() to work with update_wrapper\u001b[0m\u001b[0;34m\u001b[0m\u001b[0;34m\u001b[0m\u001b[0;34m\u001b[0m\u001b[0m\n\u001b[0;32m--> 118\u001b[0;31m         \u001b[0mout\u001b[0m \u001b[0;34m=\u001b[0m \u001b[0;32mlambda\u001b[0m \u001b[0;34m*\u001b[0m\u001b[0margs\u001b[0m\u001b[0;34m,\u001b[0m \u001b[0;34m**\u001b[0m\u001b[0mkwargs\u001b[0m\u001b[0;34m:\u001b[0m \u001b[0mself\u001b[0m\u001b[0;34m.\u001b[0m\u001b[0mfn\u001b[0m\u001b[0;34m(\u001b[0m\u001b[0mobj\u001b[0m\u001b[0;34m,\u001b[0m \u001b[0;34m*\u001b[0m\u001b[0margs\u001b[0m\u001b[0;34m,\u001b[0m \u001b[0;34m**\u001b[0m\u001b[0mkwargs\u001b[0m\u001b[0;34m)\u001b[0m\u001b[0;34m\u001b[0m\u001b[0;34m\u001b[0m\u001b[0m\n\u001b[0m\u001b[1;32m    119\u001b[0m         \u001b[0;31m# update the docstring of the returned function\u001b[0m\u001b[0;34m\u001b[0m\u001b[0;34m\u001b[0m\u001b[0;34m\u001b[0m\u001b[0m\n\u001b[1;32m    120\u001b[0m         \u001b[0mupdate_wrapper\u001b[0m\u001b[0;34m(\u001b[0m\u001b[0mout\u001b[0m\u001b[0;34m,\u001b[0m \u001b[0mself\u001b[0m\u001b[0;34m.\u001b[0m\u001b[0mfn\u001b[0m\u001b[0;34m)\u001b[0m\u001b[0;34m\u001b[0m\u001b[0;34m\u001b[0m\u001b[0m\n",
      "\u001b[0;32m~/repos/charity-filter-evaluation/char-env/lib/python3.7/site-packages/sklearn/pipeline.py\u001b[0m in \u001b[0;36mpredict\u001b[0;34m(self, X, **predict_params)\u001b[0m\n\u001b[1;32m    330\u001b[0m             \u001b[0;32mif\u001b[0m \u001b[0mtransform\u001b[0m \u001b[0;32mis\u001b[0m \u001b[0;32mnot\u001b[0m \u001b[0;32mNone\u001b[0m\u001b[0;34m:\u001b[0m\u001b[0;34m\u001b[0m\u001b[0;34m\u001b[0m\u001b[0m\n\u001b[1;32m    331\u001b[0m                 \u001b[0mXt\u001b[0m \u001b[0;34m=\u001b[0m \u001b[0mtransform\u001b[0m\u001b[0;34m.\u001b[0m\u001b[0mtransform\u001b[0m\u001b[0;34m(\u001b[0m\u001b[0mXt\u001b[0m\u001b[0;34m)\u001b[0m\u001b[0;34m\u001b[0m\u001b[0;34m\u001b[0m\u001b[0m\n\u001b[0;32m--> 332\u001b[0;31m         \u001b[0;32mreturn\u001b[0m \u001b[0mself\u001b[0m\u001b[0;34m.\u001b[0m\u001b[0msteps\u001b[0m\u001b[0;34m[\u001b[0m\u001b[0;34m-\u001b[0m\u001b[0;36m1\u001b[0m\u001b[0;34m]\u001b[0m\u001b[0;34m[\u001b[0m\u001b[0;34m-\u001b[0m\u001b[0;36m1\u001b[0m\u001b[0;34m]\u001b[0m\u001b[0;34m.\u001b[0m\u001b[0mpredict\u001b[0m\u001b[0;34m(\u001b[0m\u001b[0mXt\u001b[0m\u001b[0;34m,\u001b[0m \u001b[0;34m**\u001b[0m\u001b[0mpredict_params\u001b[0m\u001b[0;34m)\u001b[0m\u001b[0;34m\u001b[0m\u001b[0;34m\u001b[0m\u001b[0m\n\u001b[0m\u001b[1;32m    333\u001b[0m \u001b[0;34m\u001b[0m\u001b[0m\n\u001b[1;32m    334\u001b[0m     \u001b[0;34m@\u001b[0m\u001b[0mif_delegate_has_method\u001b[0m\u001b[0;34m(\u001b[0m\u001b[0mdelegate\u001b[0m\u001b[0;34m=\u001b[0m\u001b[0;34m'_final_estimator'\u001b[0m\u001b[0;34m)\u001b[0m\u001b[0;34m\u001b[0m\u001b[0;34m\u001b[0m\u001b[0m\n",
      "\u001b[0;32m~/repos/charity-filter-evaluation/char-env/lib/python3.7/site-packages/sklearn/svm/base.py\u001b[0m in \u001b[0;36mpredict\u001b[0;34m(self, X)\u001b[0m\n\u001b[1;32m    574\u001b[0m             \u001b[0mClass\u001b[0m \u001b[0mlabels\u001b[0m \u001b[0;32mfor\u001b[0m \u001b[0msamples\u001b[0m \u001b[0;32min\u001b[0m \u001b[0mX\u001b[0m\u001b[0;34m.\u001b[0m\u001b[0;34m\u001b[0m\u001b[0;34m\u001b[0m\u001b[0m\n\u001b[1;32m    575\u001b[0m         \"\"\"\n\u001b[0;32m--> 576\u001b[0;31m         \u001b[0my\u001b[0m \u001b[0;34m=\u001b[0m \u001b[0msuper\u001b[0m\u001b[0;34m(\u001b[0m\u001b[0mBaseSVC\u001b[0m\u001b[0;34m,\u001b[0m \u001b[0mself\u001b[0m\u001b[0;34m)\u001b[0m\u001b[0;34m.\u001b[0m\u001b[0mpredict\u001b[0m\u001b[0;34m(\u001b[0m\u001b[0mX\u001b[0m\u001b[0;34m)\u001b[0m\u001b[0;34m\u001b[0m\u001b[0;34m\u001b[0m\u001b[0m\n\u001b[0m\u001b[1;32m    577\u001b[0m         \u001b[0;32mreturn\u001b[0m \u001b[0mself\u001b[0m\u001b[0;34m.\u001b[0m\u001b[0mclasses_\u001b[0m\u001b[0;34m.\u001b[0m\u001b[0mtake\u001b[0m\u001b[0;34m(\u001b[0m\u001b[0mnp\u001b[0m\u001b[0;34m.\u001b[0m\u001b[0masarray\u001b[0m\u001b[0;34m(\u001b[0m\u001b[0my\u001b[0m\u001b[0;34m,\u001b[0m \u001b[0mdtype\u001b[0m\u001b[0;34m=\u001b[0m\u001b[0mnp\u001b[0m\u001b[0;34m.\u001b[0m\u001b[0mintp\u001b[0m\u001b[0;34m)\u001b[0m\u001b[0;34m)\u001b[0m\u001b[0;34m\u001b[0m\u001b[0;34m\u001b[0m\u001b[0m\n\u001b[1;32m    578\u001b[0m \u001b[0;34m\u001b[0m\u001b[0m\n",
      "\u001b[0;32m~/repos/charity-filter-evaluation/char-env/lib/python3.7/site-packages/sklearn/svm/base.py\u001b[0m in \u001b[0;36mpredict\u001b[0;34m(self, X)\u001b[0m\n\u001b[1;32m    325\u001b[0m         \u001b[0mX\u001b[0m \u001b[0;34m=\u001b[0m \u001b[0mself\u001b[0m\u001b[0;34m.\u001b[0m\u001b[0m_validate_for_predict\u001b[0m\u001b[0;34m(\u001b[0m\u001b[0mX\u001b[0m\u001b[0;34m)\u001b[0m\u001b[0;34m\u001b[0m\u001b[0;34m\u001b[0m\u001b[0m\n\u001b[1;32m    326\u001b[0m         \u001b[0mpredict\u001b[0m \u001b[0;34m=\u001b[0m \u001b[0mself\u001b[0m\u001b[0;34m.\u001b[0m\u001b[0m_sparse_predict\u001b[0m \u001b[0;32mif\u001b[0m \u001b[0mself\u001b[0m\u001b[0;34m.\u001b[0m\u001b[0m_sparse\u001b[0m \u001b[0;32melse\u001b[0m \u001b[0mself\u001b[0m\u001b[0;34m.\u001b[0m\u001b[0m_dense_predict\u001b[0m\u001b[0;34m\u001b[0m\u001b[0;34m\u001b[0m\u001b[0m\n\u001b[0;32m--> 327\u001b[0;31m         \u001b[0;32mreturn\u001b[0m \u001b[0mpredict\u001b[0m\u001b[0;34m(\u001b[0m\u001b[0mX\u001b[0m\u001b[0;34m)\u001b[0m\u001b[0;34m\u001b[0m\u001b[0;34m\u001b[0m\u001b[0m\n\u001b[0m\u001b[1;32m    328\u001b[0m \u001b[0;34m\u001b[0m\u001b[0m\n\u001b[1;32m    329\u001b[0m     \u001b[0;32mdef\u001b[0m \u001b[0m_dense_predict\u001b[0m\u001b[0;34m(\u001b[0m\u001b[0mself\u001b[0m\u001b[0;34m,\u001b[0m \u001b[0mX\u001b[0m\u001b[0;34m)\u001b[0m\u001b[0;34m:\u001b[0m\u001b[0;34m\u001b[0m\u001b[0;34m\u001b[0m\u001b[0m\n",
      "\u001b[0;32m~/repos/charity-filter-evaluation/char-env/lib/python3.7/site-packages/sklearn/svm/base.py\u001b[0m in \u001b[0;36m_sparse_predict\u001b[0;34m(self, X)\u001b[0m\n\u001b[1;32m    371\u001b[0m             \u001b[0mself\u001b[0m\u001b[0;34m.\u001b[0m\u001b[0mnu\u001b[0m\u001b[0;34m,\u001b[0m \u001b[0mself\u001b[0m\u001b[0;34m.\u001b[0m\u001b[0mepsilon\u001b[0m\u001b[0;34m,\u001b[0m \u001b[0mself\u001b[0m\u001b[0;34m.\u001b[0m\u001b[0mshrinking\u001b[0m\u001b[0;34m,\u001b[0m\u001b[0;34m\u001b[0m\u001b[0;34m\u001b[0m\u001b[0m\n\u001b[1;32m    372\u001b[0m             \u001b[0mself\u001b[0m\u001b[0;34m.\u001b[0m\u001b[0mprobability\u001b[0m\u001b[0;34m,\u001b[0m \u001b[0mself\u001b[0m\u001b[0;34m.\u001b[0m\u001b[0mn_support_\u001b[0m\u001b[0;34m,\u001b[0m\u001b[0;34m\u001b[0m\u001b[0;34m\u001b[0m\u001b[0m\n\u001b[0;32m--> 373\u001b[0;31m             self.probA_, self.probB_)\n\u001b[0m\u001b[1;32m    374\u001b[0m \u001b[0;34m\u001b[0m\u001b[0m\n\u001b[1;32m    375\u001b[0m     \u001b[0;32mdef\u001b[0m \u001b[0m_compute_kernel\u001b[0m\u001b[0;34m(\u001b[0m\u001b[0mself\u001b[0m\u001b[0;34m,\u001b[0m \u001b[0mX\u001b[0m\u001b[0;34m)\u001b[0m\u001b[0;34m:\u001b[0m\u001b[0;34m\u001b[0m\u001b[0;34m\u001b[0m\u001b[0m\n",
      "\u001b[0;31mKeyboardInterrupt\u001b[0m: "
     ]
    }
   ],
   "source": [
    "# Fit the grid search objects\n",
    "print('Performing model optimizations...')\n",
    "best_acc = 0.0\n",
    "best_clf = 0\n",
    "best_gs = ''\n",
    "for idx, gs in enumerate(grids):\n",
    "    print('\\nEstimator: %s' % grid_dict[idx])\n",
    "    # Fit grid search\n",
    "    gs.fit(X_train, y_train)\n",
    "    # Best params \n",
    "    print('Best params: %s' % gs.best_params_)\n",
    "    # Best training data accuracy\n",
    "    print('Best training accuracy: %.3f' % gs.best_score_)\n",
    "    # Predict on test data with best params\n",
    "    y_pred = gs.predict(X_test)\n",
    "    # Test data accuracy of model with best params\n",
    "    print('Test set accuracy score for best params: %.3f ' % accuracy_score(y_test, y_pred))\n",
    "    # Track best (highest test accuracy) model\n",
    "    if accuracy_score(y_test, y_pred) > best_acc:\n",
    "        best_acc = accuracy_score(y_test, y_pred)\n",
    "        best_gs = gs\n",
    "        best_clf = idx\n",
    "print('\\nClassifier with best test set accuracy: %s' % grid_dict[best_clf])\n",
    "\n",
    "# Save best grid search pipeline to file\n",
    "#dump_file = 'best_gs_pipeline.pkl'\n",
    "#joblib.dump(best_gs, dump_file, compress=1)\n",
    "print('\\nSaved %s grid search pipeline to file: %s' % (grid_dict[best_clf], dump_file))"
   ]
  }
 ],
 "metadata": {
  "kernelspec": {
   "display_name": "Charity Evaluation",
   "language": "python",
   "name": "char-env"
  },
  "language_info": {
   "codemirror_mode": {
    "name": "ipython",
    "version": 3
   },
   "file_extension": ".py",
   "mimetype": "text/x-python",
   "name": "python",
   "nbconvert_exporter": "python",
   "pygments_lexer": "ipython3",
   "version": "3.7.3"
  },
  "toc-autonumbering": true
 },
 "nbformat": 4,
 "nbformat_minor": 2
}
